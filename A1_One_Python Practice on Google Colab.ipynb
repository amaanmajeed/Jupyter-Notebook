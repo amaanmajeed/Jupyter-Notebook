{
  "cells": [
    {
      "cell_type": "markdown",
      "id": "2043b5a2",
      "metadata": {
        "id": "2043b5a2"
      },
      "source": [
        "## Python Basics"
      ]
    },
    {
      "cell_type": "markdown",
      "id": "4da92ed3",
      "metadata": {
        "id": "4da92ed3"
      },
      "source": [
        "### Question 1 (5 points)\n",
        "**Write a Python program to calculate the number of days between two dates.**\n",
        "Sample dates : (2022, 12, 1), (2022, 12, 19)\n",
        "Expected output : 18\n"
      ]
    },
    {
      "cell_type": "code",
      "execution_count": null,
      "id": "35a5617a",
      "metadata": {
        "colab": {
          "base_uri": "https://localhost:8080/"
        },
        "id": "35a5617a",
        "outputId": "fa84cf69-8000-4c0e-c3b4-4b3de4e79fd8"
      },
      "outputs": [
        {
          "output_type": "stream",
          "name": "stdout",
          "text": [
            "18\n"
          ]
        }
      ],
      "source": [
        "from datetime import date\n",
        "f_date = date(2022, 12, 1)\n",
        "l_date = date(2022, 12, 19)\n",
        "delta = l_date - f_date\n",
        "print(delta.days)"
      ]
    },
    {
      "cell_type": "markdown",
      "id": "538dfd1a",
      "metadata": {
        "id": "538dfd1a"
      },
      "source": [
        "### Question 2 (5 points)\n",
        "**Write a Python program of name diff to calculate the difference between a given number and 61. If the number is greater than 61, return twice the absolute difference.**  "
      ]
    },
    {
      "cell_type": "code",
      "execution_count": null,
      "id": "e103a1ec",
      "metadata": {
        "colab": {
          "base_uri": "https://localhost:8080/"
        },
        "id": "e103a1ec",
        "outputId": "e33da455-9e3d-4fd0-d06f-1e122d7a857f"
      },
      "outputs": [
        {
          "output_type": "stream",
          "name": "stdout",
          "text": [
            "39\n",
            "47\n"
          ]
        }
      ],
      "source": [
        "def diff(n):\n",
        "    if n <= 61:\n",
        "        return 61 - n\n",
        "    else:\n",
        "        return (n - 61) * 2 \n",
        "\n",
        "print(diff(22))\n",
        "print(diff(14))\n",
        "    \n",
        "    "
      ]
    },
    {
      "cell_type": "markdown",
      "id": "bf2cfd31",
      "metadata": {
        "id": "bf2cfd31"
      },
      "source": [
        "### Question 3 (5 points)\n",
        "**Write a Python program to get a newly-generated string from a given string where \"Ml\" has been added to the front. Return the string unchanged if the given string already begins with \"ML\".**"
      ]
    },
    {
      "cell_type": "code",
      "execution_count": null,
      "id": "663e8d08",
      "metadata": {
        "colab": {
          "base_uri": "https://localhost:8080/"
        },
        "id": "663e8d08",
        "outputId": "362aac15-ca29-4390-8899-6a595faa9427"
      },
      "outputs": [
        {
          "output_type": "stream",
          "name": "stdout",
          "text": [
            "MLArray\n",
            "MLIsEmpty\n"
          ]
        }
      ],
      "source": [
        "def new_string(text):\n",
        "  if len(text) >= 2 and text [:2] == \"ML\":\n",
        "    return text\n",
        "  return \"ML\" + text\n",
        "print(new_string(\"Array\"))\n",
        "print(new_string(\"IsEmpty\")) "
      ]
    },
    {
      "cell_type": "markdown",
      "metadata": {
        "id": "TzMy2whEvf2H"
      },
      "source": [
        "### Question 4 (5 points)\n",
        "**Write a Python program that returns a string that is n (non-negative integer) copies of a given string.**"
      ],
      "id": "TzMy2whEvf2H"
    },
    {
      "cell_type": "code",
      "source": [
        "def larger_string(text, n):\n",
        "   result = \"\"\n",
        "   for i in range(n):\n",
        "      result = result + text\n",
        "   return result\n",
        "print(larger_string('abc', 2))\n",
        "print(larger_string('.py', 3)) "
      ],
      "metadata": {
        "colab": {
          "base_uri": "https://localhost:8080/"
        },
        "id": "dlaG7wQDvlVq",
        "outputId": "23d7f578-4816-4131-df2b-8c34509cab66"
      },
      "id": "dlaG7wQDvlVq",
      "execution_count": null,
      "outputs": [
        {
          "output_type": "stream",
          "name": "stdout",
          "text": [
            "abcabc\n",
            ".py.py.py\n"
          ]
        }
      ]
    },
    {
      "cell_type": "markdown",
      "id": "f518dfb5",
      "metadata": {
        "id": "f518dfb5"
      },
      "source": [
        "# NumPy Basics"
      ]
    },
    {
      "cell_type": "code",
      "execution_count": null,
      "id": "58b94afd",
      "metadata": {
        "id": "58b94afd"
      },
      "outputs": [],
      "source": [
        "import numpy as np"
      ]
    },
    {
      "cell_type": "markdown",
      "id": "9f7c5978",
      "metadata": {
        "id": "9f7c5978"
      },
      "source": [
        "### Question 4 (5 points)\n",
        "**Write a NumPy program to find the number of rows and columns of a given matrix**"
      ]
    },
    {
      "cell_type": "code",
      "execution_count": null,
      "id": "7b2ee854",
      "metadata": {
        "colab": {
          "base_uri": "https://localhost:8080/"
        },
        "id": "7b2ee854",
        "outputId": "43ba9343-856a-4b93-a8ca-84c3e8bae24d"
      },
      "outputs": [
        {
          "output_type": "stream",
          "name": "stdout",
          "text": [
            "Original matrix:\n",
            "[[10 11 12 13]\n",
            " [14 15 16 17]\n",
            " [18 19 20 21]]\n",
            "Number of rows and columns of the said matrix:\n",
            "(3, 4)\n"
          ]
        }
      ],
      "source": [
        "import numpy as np\n",
        "m= np.arange(10,22).reshape((3, 4))\n",
        "print(\"Original matrix:\")\n",
        "print(m)\n",
        "print(\"Number of rows and columns of the said matrix:\")\n",
        "print(m.shape)"
      ]
    },
    {
      "cell_type": "markdown",
      "id": "6be8fe6d",
      "metadata": {
        "id": "6be8fe6d"
      },
      "source": [
        "### Question 5 (5 points)\n",
        "**Write a NumPy program to create a 3x3 identity matrix, i.e. diagonal elements are 1, the rest are 0.**"
      ]
    },
    {
      "cell_type": "code",
      "execution_count": null,
      "id": "477e0de2",
      "metadata": {
        "colab": {
          "base_uri": "https://localhost:8080/"
        },
        "id": "477e0de2",
        "outputId": "92f1b155-fc41-42c1-b3f1-27cf7b1025fa"
      },
      "outputs": [
        {
          "output_type": "stream",
          "name": "stdout",
          "text": [
            "[[1. 0. 0.]\n",
            " [0. 1. 0.]\n",
            " [0. 0. 1.]]\n"
          ]
        }
      ],
      "source": [
        "import numpy as np\n",
        "x = np.eye(3)\n",
        "print(x)"
      ]
    },
    {
      "cell_type": "markdown",
      "id": "7e8ead58",
      "metadata": {
        "id": "7e8ead58"
      },
      "source": [
        "### Question 6 (5 points)\n",
        "**Write a NumPy program to compute the inner product of two given vectors.**"
      ]
    },
    {
      "cell_type": "code",
      "execution_count": null,
      "id": "79123733",
      "metadata": {
        "colab": {
          "base_uri": "https://localhost:8080/"
        },
        "id": "79123733",
        "outputId": "72cb60ba-e9d0-4c56-f258-ebe6833adcc4"
      },
      "outputs": [
        {
          "output_type": "stream",
          "name": "stdout",
          "text": [
            "Original vectors:\n",
            "[4 5]\n",
            "[ 7 10]\n",
            "Inner product of said vectors:\n",
            "78\n"
          ]
        }
      ],
      "source": [
        "import numpy as np\n",
        "x = np.array([4, 5])\n",
        "y = np.array([7, 10])\n",
        "print(\"Original vectors:\")\n",
        "print(x)\n",
        "print(y)\n",
        "print(\"Inner product of said vectors:\")\n",
        "print(np.dot(x, y))\n"
      ]
    },
    {
      "cell_type": "markdown",
      "id": "cd8ff4f9",
      "metadata": {
        "id": "cd8ff4f9"
      },
      "source": [
        "### Question 7 (5 points)\n",
        "**Complete the function `inverse` that computes the inverse of a matrix.**"
      ]
    },
    {
      "cell_type": "code",
      "execution_count": null,
      "id": "f6602906",
      "metadata": {
        "colab": {
          "base_uri": "https://localhost:8080/"
        },
        "id": "f6602906",
        "outputId": "7171cbff-bd08-4672-ff8e-138882bc2991"
      },
      "outputs": [
        {
          "output_type": "stream",
          "name": "stdout",
          "text": [
            "[[1 2]\n",
            " [3 4]]\n",
            "[[-2.   1. ]\n",
            " [ 1.5 -0.5]]\n",
            "[[1.0000000e+00 0.0000000e+00]\n",
            " [8.8817842e-16 1.0000000e+00]]\n"
          ]
        }
      ],
      "source": [
        "import numpy as np \n",
        "\n",
        "x = np.array([[1,2],[3,4]]) \n",
        "y = np.linalg.inv(x) \n",
        "print (x)\n",
        "print (y) \n",
        "print (np.dot(x,y))"
      ]
    },
    {
      "cell_type": "markdown",
      "id": "676a062c",
      "metadata": {
        "id": "676a062c"
      },
      "source": [
        "### Question 8 (10 points)\n",
        "**Write a NumPy program to replace all numbers in a given array which is equal, less and greater to a given number.**"
      ]
    },
    {
      "cell_type": "code",
      "execution_count": null,
      "id": "d961fe24",
      "metadata": {
        "colab": {
          "base_uri": "https://localhost:8080/"
        },
        "id": "d961fe24",
        "outputId": "37e00d9d-9296-4a68-b985-8c0438623d72"
      },
      "outputs": [
        {
          "output_type": "stream",
          "name": "stdout",
          "text": [
            "Original array:\n",
            "[[5.54 3.38 7.99]\n",
            " [3.54 8.32 6.99]\n",
            " [1.54 2.39 9.29]]\n",
            "\n",
            "Replace elements of the said array which are equal to  8.32 with 18.32\n",
            "[[ 5.54  3.38  7.99]\n",
            " [ 3.54 18.32  6.99]\n",
            " [ 1.54  2.39  9.29]]\n",
            "\n",
            "Replace elements with of the said array which are less than 8.32 with 18.32\n",
            "[[18.32 18.32 18.32]\n",
            " [18.32  8.32 18.32]\n",
            " [18.32 18.32  9.29]]\n",
            "\n",
            "Replace elements with of the said array which are greater than 8.32 with 18.32\n",
            "[[ 5.54  3.38  7.99]\n",
            " [ 3.54  8.32  6.99]\n",
            " [ 1.54  2.39 18.32]]\n"
          ]
        }
      ],
      "source": [
        "import numpy as np\n",
        "nums = np.array([[5.54, 3.38, 7.99],\n",
        "              [3.54, 8.32, 6.99],\n",
        "              [1.54, 2.39, 9.29]])\n",
        "print(\"Original array:\")\n",
        "print(nums)\n",
        "n = 8.32\n",
        "r = 18.32\n",
        "print(\"\\nReplace elements of the said array which are equal to \",n,\"with\",r)\n",
        "print(np.where(nums == n, r, nums))\n",
        "print(\"\\nReplace elements with of the said array which are less than\",n,\"with\",r)\n",
        "print(np.where(nums < n, r, nums))\n",
        "print(\"\\nReplace elements with of the said array which are greater than\",n,\"with\",r)\n",
        "print(np.where(nums > n, r, nums))"
      ]
    },
    {
      "cell_type": "markdown",
      "id": "936fb3bc",
      "metadata": {
        "id": "936fb3bc"
      },
      "source": [
        "### Question 9 (10 points)\n",
        "**Write a NumPy program to swap rows and columns of a given array in reverse order.**"
      ]
    },
    {
      "cell_type": "code",
      "execution_count": null,
      "id": "95012d0c",
      "metadata": {
        "colab": {
          "base_uri": "https://localhost:8080/"
        },
        "id": "95012d0c",
        "outputId": "1787111c-a8b8-4227-ca11-eb973e242521"
      },
      "outputs": [
        {
          "output_type": "stream",
          "name": "stdout",
          "text": [
            "Original array:\n",
            "[[[ 1  2  3  4]\n",
            "  [ 0  1  3  4]\n",
            "  [90 91 93 94]\n",
            "  [ 5  0  3  2]]]\n",
            "\n",
            "Swap rows and columns of the said array in reverse order:\n",
            "[[[ 5  0  3  2]\n",
            "  [90 91 93 94]\n",
            "  [ 0  1  3  4]\n",
            "  [ 1  2  3  4]]]\n",
            "None\n"
          ]
        }
      ],
      "source": [
        "import numpy as np\n",
        "nums = np.array([[[1, 2, 3, 4],\n",
        "               [0, 1, 3, 4],\n",
        "               [90, 91, 93, 94],\n",
        "               [5, 0, 3, 2]]])\n",
        "print(\"Original array:\")\n",
        "print(nums)\n",
        "print(\"\\nSwap rows and columns of the said array in reverse order:\")\n",
        "new_nums = print(nums[::-1, ::-1])\n",
        "print(new_nums)"
      ]
    },
    {
      "cell_type": "markdown",
      "id": "9aa618f6",
      "metadata": {
        "id": "9aa618f6"
      },
      "source": [
        "# Pandas Basics"
      ]
    },
    {
      "cell_type": "code",
      "execution_count": null,
      "id": "edd1866d",
      "metadata": {
        "id": "edd1866d"
      },
      "outputs": [],
      "source": [
        "import pandas as pd"
      ]
    },
    {
      "cell_type": "markdown",
      "id": "1d9d8114",
      "metadata": {
        "id": "1d9d8114"
      },
      "source": [
        "### Question 10 (5 points)\n",
        "**Write a Pandas program to create and display a DataFrame from a specified dictionary data which has the index labels.**\n",
        "Sample Python dictionary data and list labels:\n",
        "exam_data = {'name': ['A', 'B', 'C', 'D', 'E', 'F', 'G', 'H', 'I', 'J'],\n",
        "'score': [12.5, 9, 16.5, np.nan, 9, 20, 14.5, np.nan, 8, 19],\n",
        "'attempts': [1, 3, 2, 3, 2, 3, 1, 1, 2, 1],\n",
        "'qualify': ['yes', 'no', 'yes', 'no', 'no', 'yes', 'yes', 'no', 'no', 'yes']}\n",
        "labels = ['a', 'b', 'c', 'd', 'e', 'f', 'g', 'h', 'i', 'j']\n",
        "Expected Output:\n",
        "attempts name qualify score\n",
        "a  A 1 yes 12.5\n",
        "b  B no 3 9.0\n",
        "\n",
        "------> Edit it to read it clearly"
      ]
    },
    {
      "cell_type": "code",
      "execution_count": null,
      "id": "346c1a8a",
      "metadata": {
        "colab": {
          "base_uri": "https://localhost:8080/"
        },
        "id": "346c1a8a",
        "outputId": "ed7b8a76-ff12-4fda-b63a-d2afa00612c4"
      },
      "outputs": [
        {
          "output_type": "stream",
          "name": "stdout",
          "text": [
            "  name  score  attempts qualify\n",
            "a    A   12.5         1     yes\n",
            "b    B    9.0         3      no\n",
            "c    C   16.5         2     yes\n",
            "d    D    NaN         3      no\n",
            "e    E    9.0         2      no\n",
            "f    F   20.0         3     yes\n",
            "g    G   14.5         1     yes\n",
            "h    H    NaN         1      no\n",
            "i    I    8.0         2      no\n",
            "j    J   19.0         1     yes\n"
          ]
        }
      ],
      "source": [
        "import pandas as pd\n",
        "import numpy as np\n",
        "\n",
        "exam_data  = {'name': ['A', 'B', 'C', 'D', 'E', 'F', 'G', 'H', 'I', 'J'],\n",
        "        'score': [12.5, 9, 16.5, np.nan, 9, 20, 14.5, np.nan, 8, 19],\n",
        "        'attempts': [1, 3, 2, 3, 2, 3, 1, 1, 2, 1],\n",
        "        'qualify': ['yes', 'no', 'yes', 'no', 'no', 'yes', 'yes', 'no', 'no', 'yes']}\n",
        "labels = ['a', 'b', 'c', 'd', 'e', 'f', 'g', 'h', 'i', 'j']\n",
        "\n",
        "df = pd.DataFrame(exam_data , index=labels)\n",
        "print(df)"
      ]
    },
    {
      "cell_type": "markdown",
      "id": "c465de2a",
      "metadata": {
        "id": "c465de2a"
      },
      "source": [
        "### Question 11 (5 points)\n",
        "**Write a Pandas program to select the rows the score is between 15 and 20 (inclusive).**\n",
        "Sample Python dictionary data and list labels:\n",
        "exam_data = {'name': ['A', 'B', 'C', 'D', 'E', 'F', 'G', 'H', 'I', 'J'],\n",
        "'score': [12.5, 9, 16.5, np.nan, 9, 20, 14.5, np.nan, 8, 19],\n",
        "'attempts': [1, 3, 2, 3, 2, 3, 1, 1, 2, 1],\n",
        "'qualify': ['yes', 'no', 'yes', 'no', 'no', 'yes', 'yes', 'no', 'no', 'yes']}\n",
        "labels = ['a', 'b', 'c', 'd', 'e', 'f', 'g', labels = ['a', 'b', 'c', 'd', 'e', 'f', 'g', 'h', 'i', 'j']\n",
        "Expected Output:\n",
        "Rows where score between 15 and 20 (inclusive):\n",
        "attempts name qualify score\n",
        "c 2 Katherine yes 16.5\n",
        "f 3 Michael yes 20.0\n",
        "j 1 Jonas yes 19.0.\n",
        "\n",
        "------> Edit it to read it clearly"
      ]
    },
    {
      "cell_type": "code",
      "execution_count": null,
      "id": "8d9d5fe8",
      "metadata": {
        "colab": {
          "base_uri": "https://localhost:8080/"
        },
        "id": "8d9d5fe8",
        "outputId": "a7ce99f1-9ffc-4fc3-91c4-e717cd58dd09"
      },
      "outputs": [
        {
          "output_type": "stream",
          "name": "stdout",
          "text": [
            "Rows where score between 15 and 20 (inclusive):\n",
            "  name  score  attempts qualify\n",
            "c    C   16.5         2     yes\n",
            "f    F   20.0         3     yes\n",
            "j    J   19.0         1     yes\n"
          ]
        }
      ],
      "source": [
        "import pandas as pd\n",
        "import numpy as np\n",
        "exam_data  = {'name': ['A', 'B', 'C', 'D', 'E', 'F', 'G', 'H', 'I', 'J'],\n",
        "        'score': [12.5, 9, 16.5, np.nan, 9, 20, 14.5, np.nan, 8, 19],\n",
        "        'attempts': [1, 3, 2, 3, 2, 3, 1, 1, 2, 1],\n",
        "        'qualify': ['yes', 'no', 'yes', 'no', 'no', 'yes', 'yes', 'no', 'no', 'yes']}\n",
        "labels = ['a', 'b', 'c', 'd', 'e', 'f', 'g', 'h', 'i', 'j']\n",
        "\n",
        "df = pd.DataFrame(exam_data , index=labels)\n",
        "print(\"Rows where score between 15 and 20 (inclusive):\")\n",
        "print(df[df['score'].between(15, 20)])\n"
      ]
    },
    {
      "cell_type": "markdown",
      "id": "b68b65f8",
      "metadata": {
        "id": "b68b65f8"
      },
      "source": [
        "### Question 12 (5 points)\n",
        "**Write a Pandas program to add one row in an existing DataFrame.**\n",
        "Sample data:\n",
        "col1 col2 col3\n",
        "0 1 4 7\n",
        "1 4 5 8\n",
        "2 3 6 9\n",
        "3 4 7 0\n",
        "4 5 8 1\n",
        "After add one row:\n",
        "col1 col2 col3\n",
        "0 1 4 7\n",
        "1 4 5 8\n",
        "2 3 6 9\n",
        "3 4 7 0\n",
        "4 5 8 1\n",
        "5 10 11 12\n",
        "\n",
        "------> Edit it to read it clearly"
      ]
    },
    {
      "cell_type": "code",
      "execution_count": null,
      "id": "717d4485",
      "metadata": {
        "colab": {
          "base_uri": "https://localhost:8080/"
        },
        "id": "717d4485",
        "outputId": "81da4a51-7965-49d4-e889-7a7e56ca2d7e"
      },
      "outputs": [
        {
          "output_type": "stream",
          "name": "stdout",
          "text": [
            "   col1  col2  col3\n",
            "0     1     4     7\n",
            "1     4     5     8\n",
            "2     3     6     9\n",
            "3     4     7     0\n",
            "4     5     8     1\n",
            "After add one row:\n",
            "   col1  col2  col3\n",
            "0     1     4     7\n",
            "1     4     5     8\n",
            "2     3     6     9\n",
            "3     4     7     0\n",
            "4     5     8     1\n",
            "5    10    11    12\n"
          ]
        }
      ],
      "source": [
        "import pandas as pd\n",
        "import numpy as np\n",
        "d = {'col1': [1, 4, 3, 4, 5], 'col2': [4, 5, 6, 7, 8], 'col3': [7, 8, 9, 0, 1]}\n",
        "df = pd.DataFrame(data=d)\n",
        "print(df)\n",
        "print('After add one row:')\n",
        "df2 = {'col1': 10, 'col2': 11, 'col3': 12}\n",
        "df = df.append(df2, ignore_index=True)\n",
        "print(df)\n"
      ]
    },
    {
      "cell_type": "markdown",
      "id": "466270e6",
      "metadata": {
        "id": "466270e6"
      },
      "source": [
        "### Question 13 (5 points)\n",
        "**Write a Pandas program to get a list of a specified column of a DataFrame.**\n",
        "Sample data:\n",
        "col1 col2 col3\n",
        "0 1 4 7\n",
        "1 2 5 8\n",
        "2 3 6 9\n",
        "Col2 of the DataFrame to list:\n",
        "[4, 5, 6]\n",
        "\n",
        "------> Edit it to read it clearly"
      ]
    },
    {
      "cell_type": "code",
      "execution_count": null,
      "id": "2d8f4abd",
      "metadata": {
        "colab": {
          "base_uri": "https://localhost:8080/"
        },
        "id": "2d8f4abd",
        "outputId": "be9066b4-9ebf-47ca-fc2d-c6d117493511"
      },
      "outputs": [
        {
          "output_type": "stream",
          "name": "stdout",
          "text": [
            "   col1  col2  col3\n",
            "0     1     4     7\n",
            "1     2     5     8\n",
            "2     3     6     9\n",
            "Col2 of the DataFrame to list:\n",
            "[4, 5, 6]\n"
          ]
        }
      ],
      "source": [
        "import pandas as pd\n",
        "d = {'col1': [1, 2, 3], 'col2': [4, 5, 6], 'col3': [7, 8, 9]}\n",
        "df = pd.DataFrame(data=d)\n",
        "print(df)\n",
        "col2_list = df[\"col2\"].tolist()\n",
        "print(\"Col2 of the DataFrame to list:\")\n",
        "print(col2_list)\n"
      ]
    },
    {
      "cell_type": "markdown",
      "id": "b26b0d55",
      "metadata": {
        "id": "b26b0d55"
      },
      "source": [
        "### Question 14 (10 points)\n",
        "**Write a Pandas program to find the particular row where the value of the  column is maximum.**\n",
        "Sample Output:\n",
        "  col1 col2 col3\n",
        "0   1   11    7\n",
        "1   2   12    8\n",
        "2   3   13    12\n",
        "3   4   14    1\n",
        "4   5   10    11\n",
        "Row where col1 has maximum value:\n",
        "4\n",
        "Row where col2 has maximum value:\n",
        "3\n",
        "Row where col3 has maximum value:\n",
        "2\n",
        "\n",
        "------> Edit it to read it clearly"
      ]
    },
    {
      "cell_type": "code",
      "execution_count": null,
      "id": "b0e6425c",
      "metadata": {
        "colab": {
          "base_uri": "https://localhost:8080/"
        },
        "id": "b0e6425c",
        "outputId": "7bfe0a4f-0a6b-4f5c-ecef-d68523a3ab64"
      },
      "outputs": [
        {
          "output_type": "stream",
          "name": "stdout",
          "text": [
            "   col1  col2  col3\n",
            "0     1    11     7\n",
            "1     2    12     8\n",
            "2     3    13    12\n",
            "3     4    14     1\n",
            "4     5    10    11\n",
            "Row where col1 has maximum value:\n",
            "4\n",
            "Row where col2 has maximum value:\n",
            "3\n",
            "Row where col3 has maximum value:\n",
            "2\n"
          ]
        }
      ],
      "source": [
        "import pandas as pd\n",
        "d = {'col1': [1, 2, 3, 4, 5], 'col2': [11, 12, 13, 14, 10], 'col3': [7, 8, 12, 1, 11]}\n",
        "df = pd.DataFrame(data=d)\n",
        "print(df)\n",
        "print(\"Row where col1 has maximum value:\")\n",
        "print(df['col1'].argmax())\n",
        "print(\"Row where col2 has maximum value:\")\n",
        "print(df['col2'].argmax())\n",
        "print(\"Row where col3 has maximum value:\")\n",
        "print(df['col3'].argmax())\n"
      ]
    },
    {
      "cell_type": "markdown",
      "id": "c5452f65",
      "metadata": {
        "id": "c5452f65"
      },
      "source": [
        "### Question 15 (10 points)\n",
        "**Create a DataFrame of your own choice which will have 5 columns with 10 rows filled by values**\n",
        "\n",
        "1.   Show only first 5 values\n",
        "2.   Show only last 5 values\n",
        "3.   Show its info\n",
        "4.   Show its columns\n",
        "\n",
        "\n",
        "\n",
        "\n"
      ]
    },
    {
      "cell_type": "code",
      "execution_count": null,
      "id": "7f581e05",
      "metadata": {
        "id": "7f581e05"
      },
      "outputs": [],
      "source": [
        "df.head()"
      ]
    },
    {
      "cell_type": "code",
      "source": [
        "df.tail()"
      ],
      "metadata": {
        "id": "hRAUOzxu0wXo"
      },
      "id": "hRAUOzxu0wXo",
      "execution_count": null,
      "outputs": []
    },
    {
      "cell_type": "code",
      "execution_count": null,
      "id": "3b3dc16b",
      "metadata": {
        "id": "3b3dc16b"
      },
      "outputs": [],
      "source": [
        "df.info()"
      ]
    },
    {
      "cell_type": "code",
      "execution_count": null,
      "id": "60e14135",
      "metadata": {
        "id": "60e14135"
      },
      "outputs": [],
      "source": [
        "df.column()"
      ]
    }
  ],
  "metadata": {
    "kernelspec": {
      "display_name": "Python 3",
      "language": "python",
      "name": "python3"
    },
    "language_info": {
      "codemirror_mode": {
        "name": "ipython",
        "version": 3
      },
      "file_extension": ".py",
      "mimetype": "text/x-python",
      "name": "python",
      "nbconvert_exporter": "python",
      "pygments_lexer": "ipython3",
      "version": "3.6.13"
    },
    "colab": {
      "provenance": []
    }
  },
  "nbformat": 4,
  "nbformat_minor": 5
}