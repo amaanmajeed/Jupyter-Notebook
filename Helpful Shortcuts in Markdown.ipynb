{
 "cells": [
  {
   "cell_type": "markdown",
   "id": "38dd1fcf",
   "metadata": {},
   "source": [
    "# Helpful Shortcuts in Markdown"
   ]
  },
  {
   "cell_type": "markdown",
   "id": "ba4eb58d",
   "metadata": {},
   "source": [
    "## Cell Manupulation\n",
    "- Press `a` to insert a cell above\n",
    "- Press `b` to insert a cell below\n",
    "- Press `dd` to delete a cell"
   ]
  },
  {
   "cell_type": "markdown",
   "id": "3705f770",
   "metadata": {},
   "source": [
    "# Change Cell Format\n",
    "- Press `y` to go to Coding mode\n",
    "- Press `m` to go to markdown mode\n",
    "- Press `r` to go to raw mode"
   ]
  },
  {
   "cell_type": "markdown",
   "id": "9a07fd6f",
   "metadata": {},
   "source": [
    "## Execution\n",
    "- Press `Enter` to enter Editable mode\n",
    "- Press `Ecs` to exit Editable mode\n",
    "- Press `ctrl` + `Enter` to execute\n",
    "- Press `alt` + `Enter` to execute and insert a cell below"
   ]
  }
 ],
 "metadata": {
  "kernelspec": {
   "display_name": "VENV",
   "language": "python",
   "name": "python3"
  },
  "language_info": {
   "codemirror_mode": {
    "name": "ipython",
    "version": 3
   },
   "file_extension": ".py",
   "mimetype": "text/x-python",
   "name": "python",
   "nbconvert_exporter": "python",
   "pygments_lexer": "ipython3",
   "version": "3.9.6"
  },
  "vscode": {
   "interpreter": {
    "hash": "4c8acd2ad4861dad3e72766d0c005f67be7d5e928d9fec9540402f7f721b8717"
   }
  }
 },
 "nbformat": 4,
 "nbformat_minor": 5
}
