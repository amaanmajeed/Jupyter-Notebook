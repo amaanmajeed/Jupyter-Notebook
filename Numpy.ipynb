{
 "cells": [
  {
   "cell_type": "markdown",
   "id": "fc93c5e6",
   "metadata": {},
   "source": [
    "# Numpy"
   ]
  },
  {
   "cell_type": "code",
   "execution_count": 1,
   "id": "6bae9093",
   "metadata": {},
   "outputs": [],
   "source": [
    "import numpy as np"
   ]
  },
  {
   "cell_type": "code",
   "execution_count": 2,
   "id": "94ce8b0d",
   "metadata": {},
   "outputs": [],
   "source": [
    "np1 = np.array([1,2,3,4])"
   ]
  },
  {
   "cell_type": "code",
   "execution_count": 3,
   "id": "e3f84d14",
   "metadata": {},
   "outputs": [
    {
     "data": {
      "text/plain": [
       "array([1, 2, 3, 4])"
      ]
     },
     "execution_count": 3,
     "metadata": {},
     "output_type": "execute_result"
    }
   ],
   "source": [
    "np1"
   ]
  },
  {
   "cell_type": "code",
   "execution_count": 4,
   "id": "31dcd73d",
   "metadata": {},
   "outputs": [
    {
     "data": {
      "text/plain": [
       "numpy.ndarray"
      ]
     },
     "execution_count": 4,
     "metadata": {},
     "output_type": "execute_result"
    }
   ],
   "source": [
    "type(np1)"
   ]
  },
  {
   "cell_type": "code",
   "execution_count": 5,
   "id": "d295071f",
   "metadata": {},
   "outputs": [],
   "source": [
    "Mat1 = np.array([[1,2],[3,4]])"
   ]
  },
  {
   "cell_type": "code",
   "execution_count": 6,
   "id": "1388b6cc",
   "metadata": {},
   "outputs": [
    {
     "data": {
      "text/plain": [
       "array([[1, 2],\n",
       "       [3, 4]])"
      ]
     },
     "execution_count": 6,
     "metadata": {},
     "output_type": "execute_result"
    }
   ],
   "source": [
    "Mat1"
   ]
  },
  {
   "cell_type": "code",
   "execution_count": 7,
   "id": "bce93642",
   "metadata": {},
   "outputs": [
    {
     "data": {
      "text/plain": [
       "(4,)"
      ]
     },
     "execution_count": 7,
     "metadata": {},
     "output_type": "execute_result"
    }
   ],
   "source": [
    "np1.shape"
   ]
  },
  {
   "cell_type": "code",
   "execution_count": 8,
   "id": "78df7cf8",
   "metadata": {},
   "outputs": [
    {
     "data": {
      "text/plain": [
       "(2, 2)"
      ]
     },
     "execution_count": 8,
     "metadata": {},
     "output_type": "execute_result"
    }
   ],
   "source": [
    "Mat1.shape"
   ]
  },
  {
   "cell_type": "code",
   "execution_count": 9,
   "id": "b17ce75c",
   "metadata": {},
   "outputs": [
    {
     "data": {
      "text/plain": [
       "dtype('int32')"
      ]
     },
     "execution_count": 9,
     "metadata": {},
     "output_type": "execute_result"
    }
   ],
   "source": [
    "Mat1.dtype"
   ]
  },
  {
   "cell_type": "code",
   "execution_count": 10,
   "id": "28e3a96f",
   "metadata": {},
   "outputs": [],
   "source": [
    "Mat1[0,0] = 5"
   ]
  },
  {
   "cell_type": "code",
   "execution_count": 11,
   "id": "e660792a",
   "metadata": {},
   "outputs": [
    {
     "data": {
      "text/plain": [
       "array([[5, 2],\n",
       "       [3, 4]])"
      ]
     },
     "execution_count": 11,
     "metadata": {},
     "output_type": "execute_result"
    }
   ],
   "source": [
    "Mat1"
   ]
  },
  {
   "cell_type": "code",
   "execution_count": 12,
   "id": "bf8f2702",
   "metadata": {},
   "outputs": [
    {
     "ename": "ValueError",
     "evalue": "invalid literal for int() with base 10: 'String'",
     "output_type": "error",
     "traceback": [
      "\u001b[1;31m---------------------------------------------------------------------------\u001b[0m",
      "\u001b[1;31mValueError\u001b[0m                                Traceback (most recent call last)",
      "\u001b[1;32m~\\AppData\\Local\\Temp\\ipykernel_10692\\2162667843.py\u001b[0m in \u001b[0;36m<module>\u001b[1;34m\u001b[0m\n\u001b[1;32m----> 1\u001b[1;33m \u001b[0mMat1\u001b[0m\u001b[1;33m[\u001b[0m\u001b[1;36m0\u001b[0m\u001b[1;33m,\u001b[0m\u001b[1;36m0\u001b[0m\u001b[1;33m]\u001b[0m \u001b[1;33m=\u001b[0m \u001b[1;34m\"String\"\u001b[0m\u001b[1;33m\u001b[0m\u001b[1;33m\u001b[0m\u001b[0m\n\u001b[0m",
      "\u001b[1;31mValueError\u001b[0m: invalid literal for int() with base 10: 'String'"
     ]
    }
   ],
   "source": [
    "Mat1[0,0] = \"String\""
   ]
  },
  {
   "cell_type": "code",
   "execution_count": 14,
   "id": "aed831d9",
   "metadata": {},
   "outputs": [],
   "source": [
    "Mat2 = np.arange(0,10,1)"
   ]
  },
  {
   "cell_type": "code",
   "execution_count": 15,
   "id": "ae602645",
   "metadata": {},
   "outputs": [
    {
     "data": {
      "text/plain": [
       "array([0, 1, 2, 3, 4, 5, 6, 7, 8, 9])"
      ]
     },
     "execution_count": 15,
     "metadata": {},
     "output_type": "execute_result"
    }
   ],
   "source": [
    "Mat2"
   ]
  },
  {
   "cell_type": "code",
   "execution_count": 18,
   "id": "01f73e41",
   "metadata": {},
   "outputs": [],
   "source": [
    "Mat3 = np.linspace(0,10,11)"
   ]
  },
  {
   "cell_type": "code",
   "execution_count": 19,
   "id": "bcf3289d",
   "metadata": {},
   "outputs": [
    {
     "data": {
      "text/plain": [
       "array([ 0.,  1.,  2.,  3.,  4.,  5.,  6.,  7.,  8.,  9., 10.])"
      ]
     },
     "execution_count": 19,
     "metadata": {},
     "output_type": "execute_result"
    }
   ],
   "source": [
    "Mat3"
   ]
  },
  {
   "cell_type": "code",
   "execution_count": 20,
   "id": "1221e3a1",
   "metadata": {},
   "outputs": [],
   "source": [
    "Mat4 = np.random.rand(5,5)"
   ]
  },
  {
   "cell_type": "code",
   "execution_count": 21,
   "id": "1a7e9754",
   "metadata": {},
   "outputs": [
    {
     "data": {
      "text/plain": [
       "array([[0.76159187, 0.69909543, 0.80870934, 0.38260558, 0.45120849],\n",
       "       [0.19511725, 0.18248009, 0.19550401, 0.47967304, 0.65709741],\n",
       "       [0.81126996, 0.42711458, 0.43231037, 0.16077445, 0.05037125],\n",
       "       [0.89198121, 0.11803424, 0.69132134, 0.78182234, 0.0820433 ],\n",
       "       [0.80753587, 0.91434046, 0.67390375, 0.33543302, 0.91627802]])"
      ]
     },
     "execution_count": 21,
     "metadata": {},
     "output_type": "execute_result"
    }
   ],
   "source": [
    "Mat4"
   ]
  },
  {
   "cell_type": "code",
   "execution_count": 22,
   "id": "6aacbf03",
   "metadata": {},
   "outputs": [],
   "source": [
    "Mat5 = np.random.randn(5,5)"
   ]
  },
  {
   "cell_type": "code",
   "execution_count": 23,
   "id": "7ce27957",
   "metadata": {},
   "outputs": [
    {
     "data": {
      "text/plain": [
       "array([[ 1.82060651,  0.91643691,  1.48806461, -0.61488401,  2.11684546],\n",
       "       [ 0.30561336, -0.1451965 , -0.32674814,  0.2597334 ,  1.30661058],\n",
       "       [-1.46810331,  0.51969738,  0.31445303,  0.49970747, -0.71492386],\n",
       "       [-0.51345185, -0.20322258, -1.0522553 ,  0.87322688, -1.4724582 ],\n",
       "       [ 0.3523559 ,  0.78159654, -0.21467635, -1.64930286,  0.78176946]])"
      ]
     },
     "execution_count": 23,
     "metadata": {},
     "output_type": "execute_result"
    }
   ],
   "source": [
    "Mat5"
   ]
  },
  {
   "cell_type": "markdown",
   "id": "aa7c39e5",
   "metadata": {},
   "source": [
    "- np.diag\n",
    "- np.zeros\n",
    "- np.ones"
   ]
  },
  {
   "cell_type": "code",
   "execution_count": 25,
   "id": "e8e0222f",
   "metadata": {},
   "outputs": [
    {
     "data": {
      "text/plain": [
       "1.8206065100037674"
      ]
     },
     "execution_count": 25,
     "metadata": {},
     "output_type": "execute_result"
    }
   ],
   "source": [
    "Mat5[0,0]"
   ]
  },
  {
   "cell_type": "code",
   "execution_count": 26,
   "id": "4c2afa82",
   "metadata": {},
   "outputs": [
    {
     "ename": "IndexError",
     "evalue": "only integers, slices (`:`), ellipsis (`...`), numpy.newaxis (`None`) and integer or boolean arrays are valid indices",
     "output_type": "error",
     "traceback": [
      "\u001b[1;31m---------------------------------------------------------------------------\u001b[0m",
      "\u001b[1;31mIndexError\u001b[0m                                Traceback (most recent call last)",
      "\u001b[1;32m~\\AppData\\Local\\Temp\\ipykernel_10692\\42576482.py\u001b[0m in \u001b[0;36m<module>\u001b[1;34m\u001b[0m\n\u001b[1;32m----> 1\u001b[1;33m \u001b[0mMat5\u001b[0m\u001b[1;33m[\u001b[0m\u001b[1;36m0.0\u001b[0m\u001b[1;33m]\u001b[0m \u001b[1;33m=\u001b[0m \u001b[1;36m0\u001b[0m\u001b[1;33m\u001b[0m\u001b[1;33m\u001b[0m\u001b[0m\n\u001b[0m",
      "\u001b[1;31mIndexError\u001b[0m: only integers, slices (`:`), ellipsis (`...`), numpy.newaxis (`None`) and integer or boolean arrays are valid indices"
     ]
    }
   ],
   "source": [
    "Mat5[0.0] = 0"
   ]
  },
  {
   "cell_type": "code",
   "execution_count": 27,
   "id": "38dfbd29",
   "metadata": {},
   "outputs": [
    {
     "data": {
      "text/plain": [
       "array([[ 1.82060651,  0.91643691,  1.48806461, -0.61488401,  2.11684546],\n",
       "       [ 0.30561336, -0.1451965 , -0.32674814,  0.2597334 ,  1.30661058],\n",
       "       [-1.46810331,  0.51969738,  0.31445303,  0.49970747, -0.71492386]])"
      ]
     },
     "execution_count": 27,
     "metadata": {},
     "output_type": "execute_result"
    }
   ],
   "source": [
    "Mat5[0:3, :] # Excluding 3"
   ]
  },
  {
   "cell_type": "markdown",
   "id": "235f9b54",
   "metadata": {},
   "source": [
    "# Pandas"
   ]
  },
  {
   "cell_type": "code",
   "execution_count": 28,
   "id": "be274c7f",
   "metadata": {},
   "outputs": [],
   "source": [
    "import pandas as pd"
   ]
  },
  {
   "cell_type": "code",
   "execution_count": 31,
   "id": "b506b0b3",
   "metadata": {},
   "outputs": [],
   "source": [
    "data1 = pd.read_csv(\"D:/stremio-cache/ML & Deep Learning in Python & R/01 - Introduction/Data Files/1. ST Academy - Crash course and Regression files/Customer.csv\", header = 0)"
   ]
  },
  {
   "cell_type": "code",
   "execution_count": 34,
   "id": "1fcbc06b",
   "metadata": {},
   "outputs": [
    {
     "data": {
      "text/html": [
       "<div>\n",
       "<style scoped>\n",
       "    .dataframe tbody tr th:only-of-type {\n",
       "        vertical-align: middle;\n",
       "    }\n",
       "\n",
       "    .dataframe tbody tr th {\n",
       "        vertical-align: top;\n",
       "    }\n",
       "\n",
       "    .dataframe thead th {\n",
       "        text-align: right;\n",
       "    }\n",
       "</style>\n",
       "<table border=\"1\" class=\"dataframe\">\n",
       "  <thead>\n",
       "    <tr style=\"text-align: right;\">\n",
       "      <th></th>\n",
       "      <th>Customer ID</th>\n",
       "      <th>Customer Name</th>\n",
       "      <th>Segment</th>\n",
       "      <th>Age</th>\n",
       "      <th>Country</th>\n",
       "      <th>City</th>\n",
       "      <th>State</th>\n",
       "      <th>Postal Code</th>\n",
       "      <th>Region</th>\n",
       "    </tr>\n",
       "  </thead>\n",
       "  <tbody>\n",
       "    <tr>\n",
       "      <th>0</th>\n",
       "      <td>CG-12520</td>\n",
       "      <td>Claire Gute</td>\n",
       "      <td>Consumer</td>\n",
       "      <td>67</td>\n",
       "      <td>United States</td>\n",
       "      <td>Henderson</td>\n",
       "      <td>Kentucky</td>\n",
       "      <td>42420</td>\n",
       "      <td>South</td>\n",
       "    </tr>\n",
       "    <tr>\n",
       "      <th>1</th>\n",
       "      <td>DV-13045</td>\n",
       "      <td>Darrin Van Huff</td>\n",
       "      <td>Corporate</td>\n",
       "      <td>31</td>\n",
       "      <td>United States</td>\n",
       "      <td>Los Angeles</td>\n",
       "      <td>California</td>\n",
       "      <td>90036</td>\n",
       "      <td>West</td>\n",
       "    </tr>\n",
       "    <tr>\n",
       "      <th>2</th>\n",
       "      <td>SO-20335</td>\n",
       "      <td>Sean O'Donnell</td>\n",
       "      <td>Consumer</td>\n",
       "      <td>65</td>\n",
       "      <td>United States</td>\n",
       "      <td>Fort Lauderdale</td>\n",
       "      <td>Florida</td>\n",
       "      <td>33311</td>\n",
       "      <td>South</td>\n",
       "    </tr>\n",
       "    <tr>\n",
       "      <th>3</th>\n",
       "      <td>BH-11710</td>\n",
       "      <td>Brosina Hoffman</td>\n",
       "      <td>Consumer</td>\n",
       "      <td>20</td>\n",
       "      <td>United States</td>\n",
       "      <td>Los Angeles</td>\n",
       "      <td>California</td>\n",
       "      <td>90032</td>\n",
       "      <td>West</td>\n",
       "    </tr>\n",
       "    <tr>\n",
       "      <th>4</th>\n",
       "      <td>AA-10480</td>\n",
       "      <td>Andrew Allen</td>\n",
       "      <td>Consumer</td>\n",
       "      <td>50</td>\n",
       "      <td>United States</td>\n",
       "      <td>Concord</td>\n",
       "      <td>North Carolina</td>\n",
       "      <td>28027</td>\n",
       "      <td>South</td>\n",
       "    </tr>\n",
       "  </tbody>\n",
       "</table>\n",
       "</div>"
      ],
      "text/plain": [
       "  Customer ID    Customer Name    Segment  Age        Country  \\\n",
       "0    CG-12520      Claire Gute   Consumer   67  United States   \n",
       "1    DV-13045  Darrin Van Huff  Corporate   31  United States   \n",
       "2    SO-20335   Sean O'Donnell   Consumer   65  United States   \n",
       "3    BH-11710  Brosina Hoffman   Consumer   20  United States   \n",
       "4    AA-10480     Andrew Allen   Consumer   50  United States   \n",
       "\n",
       "              City           State  Postal Code Region  \n",
       "0        Henderson        Kentucky        42420  South  \n",
       "1      Los Angeles      California        90036   West  \n",
       "2  Fort Lauderdale         Florida        33311  South  \n",
       "3      Los Angeles      California        90032   West  \n",
       "4          Concord  North Carolina        28027  South  "
      ]
     },
     "execution_count": 34,
     "metadata": {},
     "output_type": "execute_result"
    }
   ],
   "source": [
    "data1.head()"
   ]
  },
  {
   "cell_type": "code",
   "execution_count": null,
   "id": "76d8ef35",
   "metadata": {},
   "outputs": [],
   "source": []
  }
 ],
 "metadata": {
  "kernelspec": {
   "display_name": "Python 3 (ipykernel)",
   "language": "python",
   "name": "python3"
  },
  "language_info": {
   "codemirror_mode": {
    "name": "ipython",
    "version": 3
   },
   "file_extension": ".py",
   "mimetype": "text/x-python",
   "name": "python",
   "nbconvert_exporter": "python",
   "pygments_lexer": "ipython3",
   "version": "3.9.13"
  }
 },
 "nbformat": 4,
 "nbformat_minor": 5
}
