{
 "cells": [
  {
   "cell_type": "markdown",
   "metadata": {
    "id": "SKHK-92JAfTW"
   },
   "source": [
    "## Python\n",
    "\n",
    "* Numbers\n",
    "* Variable Assignment\n",
    "* Printing\n",
    "* Strings     \n",
    "* Lists\n",
    "* Dictionaries\n",
    "* Booleans\n",
    "* Tuples \n",
    "* Sets\n",
    "* Comparison Operators\n",
    "* Logic Operators\n",
    "* if, elif, else Statements\n",
    "* for Loops\n",
    "* break and continue\n",
    "* pass\n",
    "* while Loops\n",
    "* range()\n",
    "* functions\n",
    "* type casting\n",
    "* user input\n",
    "* File Handling\n",
    "* Installing Important Libraries and Importing Them"
   ]
  },
  {
   "cell_type": "markdown",
   "metadata": {
    "id": "pTuRCK8KAfTb"
   },
   "source": [
    "## Numbers"
   ]
  },
  {
   "cell_type": "code",
   "execution_count": 1,
   "metadata": {
    "colab": {
     "base_uri": "https://localhost:8080/"
    },
    "id": "Nqh39PIsAfTb",
    "outputId": "5ee4f0f8-993b-4b62-e0ea-274bc94bed5b"
   },
   "outputs": [
    {
     "data": {
      "text/plain": [
       "2"
      ]
     },
     "execution_count": 1,
     "metadata": {},
     "output_type": "execute_result"
    }
   ],
   "source": [
    "1 + 1\n",
    "#adding two numbers"
   ]
  },
  {
   "cell_type": "code",
   "execution_count": 2,
   "metadata": {
    "colab": {
     "base_uri": "https://localhost:8080/"
    },
    "id": "4H_hFLQLAfTd",
    "outputId": "9f57578d-55d4-4a0f-b1ba-f9e6e2596c22"
   },
   "outputs": [
    {
     "data": {
      "text/plain": [
       "3"
      ]
     },
     "execution_count": 2,
     "metadata": {},
     "output_type": "execute_result"
    }
   ],
   "source": [
    "1 * 3\n",
    "#multiplying two numbers"
   ]
  },
  {
   "cell_type": "code",
   "execution_count": 3,
   "metadata": {
    "colab": {
     "base_uri": "https://localhost:8080/"
    },
    "id": "h100hhJLAfTd",
    "outputId": "71a71a61-cbc6-4898-f9c5-24472bdb3bb2"
   },
   "outputs": [
    {
     "data": {
      "text/plain": [
       "0.5"
      ]
     },
     "execution_count": 3,
     "metadata": {},
     "output_type": "execute_result"
    }
   ],
   "source": [
    "1 / 2\n",
    "#dividing two numbers"
   ]
  },
  {
   "cell_type": "code",
   "execution_count": 4,
   "metadata": {
    "colab": {
     "base_uri": "https://localhost:8080/"
    },
    "id": "uhZNpvuuJA5Q",
    "outputId": "4875c1ff-df6a-41a4-e393-8c5fb9824b34"
   },
   "outputs": [
    {
     "data": {
      "text/plain": [
       "0"
      ]
     },
     "execution_count": 4,
     "metadata": {},
     "output_type": "execute_result"
    }
   ],
   "source": [
    "1 // 2\n"
   ]
  },
  {
   "cell_type": "code",
   "execution_count": 1,
   "metadata": {
    "id": "gu1Q1n2oAfTe"
   },
   "outputs": [
    {
     "data": {
      "text/plain": [
       "16"
      ]
     },
     "execution_count": 1,
     "metadata": {},
     "output_type": "execute_result"
    }
   ],
   "source": [
    "# power / exponent\n",
    "2 ** 4\n",
    "#taking power 4 of 2"
   ]
  },
  {
   "cell_type": "code",
   "execution_count": 2,
   "metadata": {
    "id": "IS2Zzf6dAfTf"
   },
   "outputs": [
    {
     "data": {
      "text/plain": [
       "0"
      ]
     },
     "execution_count": 2,
     "metadata": {},
     "output_type": "execute_result"
    }
   ],
   "source": [
    "# modulus\n",
    "4 % 2\n",
    "#taking modulus"
   ]
  },
  {
   "cell_type": "code",
   "execution_count": 3,
   "metadata": {
    "id": "LyAvFhkjAfTf"
   },
   "outputs": [
    {
     "data": {
      "text/plain": [
       "1"
      ]
     },
     "execution_count": 3,
     "metadata": {},
     "output_type": "execute_result"
    }
   ],
   "source": [
    "5 % 2\n"
   ]
  },
  {
   "cell_type": "code",
   "execution_count": 4,
   "metadata": {
    "id": "kDn1ZJWmAfTg"
   },
   "outputs": [
    {
     "data": {
      "text/plain": [
       "50"
      ]
     },
     "execution_count": 4,
     "metadata": {},
     "output_type": "execute_result"
    }
   ],
   "source": [
    "# precedence\n",
    "(2 + 3) * (5 + 5)\n",
    "#expressions in brackets will solve first"
   ]
  },
  {
   "cell_type": "markdown",
   "metadata": {
    "id": "hXPycKfaAfTh"
   },
   "source": [
    "## Variable Assignment"
   ]
  },
  {
   "cell_type": "code",
   "execution_count": 5,
   "metadata": {
    "colab": {
     "base_uri": "https://localhost:8080/"
    },
    "id": "aKxcsaT7AfTh",
    "outputId": "45b78619-c826-4a1a-bd2c-870279379d34"
   },
   "outputs": [
    {
     "data": {
      "text/plain": [
       "int"
      ]
     },
     "execution_count": 5,
     "metadata": {},
     "output_type": "execute_result"
    }
   ],
   "source": [
    "\n",
    "# Can not start with number or special characters\n",
    "nameOfVar = 2 #initializing it to 2\n",
    "i=0  #can't leave it it uninitialized (initialize it  to 0)\n",
    "j=\"A\"  #string initialization (we won't say character it's called string even if its only one character)\n",
    "type(i)  #checking data type of variable by checking its value assigned to it"
   ]
  },
  {
   "cell_type": "code",
   "execution_count": 6,
   "metadata": {
    "id": "2fSus0pAAfTi"
   },
   "outputs": [],
   "source": [
    "x = 2\n",
    "y = 3"
   ]
  },
  {
   "cell_type": "code",
   "execution_count": 7,
   "metadata": {
    "id": "mFhGBmF5AfTi"
   },
   "outputs": [],
   "source": [
    "z = x + y  #initializing a variable to an expression"
   ]
  },
  {
   "cell_type": "code",
   "execution_count": 10,
   "metadata": {
    "colab": {
     "base_uri": "https://localhost:8080/"
    },
    "id": "JID3tr_TKXBe",
    "outputId": "05b312f6-79f8-4c41-b812-acc0f83a10e8"
   },
   "outputs": [
    {
     "data": {
      "text/plain": [
       "5"
      ]
     },
     "execution_count": 10,
     "metadata": {},
     "output_type": "execute_result"
    }
   ],
   "source": [
    "z"
   ]
  },
  {
   "cell_type": "code",
   "execution_count": 8,
   "metadata": {
    "colab": {
     "base_uri": "https://localhost:8080/"
    },
    "id": "cJ8gvzoGAfTj",
    "outputId": "70c8a279-780b-4dc6-9a0f-80c90b94d5c5"
   },
   "outputs": [
    {
     "data": {
      "text/plain": [
       "5"
      ]
     },
     "execution_count": 8,
     "metadata": {},
     "output_type": "execute_result"
    }
   ],
   "source": [
    "z  #can print it without using print"
   ]
  },
  {
   "cell_type": "code",
   "execution_count": 9,
   "metadata": {
    "id": "cMiWOVP9AfTj"
   },
   "outputs": [],
   "source": [
    "s = 12"
   ]
  },
  {
   "cell_type": "markdown",
   "metadata": {
    "id": "lGkc2eVFAfTk"
   },
   "source": [
    "## Printing"
   ]
  },
  {
   "cell_type": "code",
   "execution_count": 12,
   "metadata": {
    "colab": {
     "base_uri": "https://localhost:8080/"
    },
    "id": "JIkpzTlXAfTk",
    "outputId": "6dbd310d-47aa-4034-8506-ec70b91bdd38"
   },
   "outputs": [
    {
     "name": "stdout",
     "output_type": "stream",
     "text": [
      "5\n",
      "2\n"
     ]
    },
    {
     "data": {
      "text/plain": [
       "(5, 2)"
      ]
     },
     "execution_count": 12,
     "metadata": {},
     "output_type": "execute_result"
    }
   ],
   "source": [
    "x = 5\n",
    "s = 2\n",
    "print(x)\n",
    "print(s)\n",
    "x,s  #to print both without using print function\n"
   ]
  },
  {
   "cell_type": "markdown",
   "metadata": {
    "id": "92yRtutFAfTk"
   },
   "source": [
    "## Strings"
   ]
  },
  {
   "cell_type": "code",
   "execution_count": null,
   "metadata": {
    "id": "0J4T05oPAfTk"
   },
   "outputs": [],
   "source": [
    "'single quotes'"
   ]
  },
  {
   "cell_type": "code",
   "execution_count": null,
   "metadata": {
    "id": "3O7nQtGQAfTl"
   },
   "outputs": [],
   "source": [
    "\"double quotes\""
   ]
  },
  {
   "cell_type": "code",
   "execution_count": null,
   "metadata": {
    "id": "qTxg0-jYAfTl"
   },
   "outputs": [],
   "source": [
    "\" wrap lot's of single quotes in double quotes\""
   ]
  },
  {
   "cell_type": "code",
   "execution_count": 13,
   "metadata": {
    "colab": {
     "base_uri": "https://localhost:8080/",
     "height": 36
    },
    "id": "JADOJ8CiAfTl",
    "outputId": "05add44b-cfb4-4534-cf83-830e95e20038"
   },
   "outputs": [
    {
     "data": {
      "application/vnd.google.colaboratory.intrinsic+json": {
       "type": "string"
      },
      "text/plain": [
       "'my name is ali and my number is 124563456'"
      ]
     },
     "execution_count": 13,
     "metadata": {},
     "output_type": "execute_result"
    }
   ],
   "source": [
    "# .format()\n",
    "num =124563456\n",
    "name='ali'\n",
    "\n",
    "x = 'my name is {} and my number is {}'.format(name,num)  #concatenating two strings by using format function\n",
    "x"
   ]
  },
  {
   "cell_type": "code",
   "execution_count": null,
   "metadata": {
    "colab": {
     "base_uri": "https://localhost:8080/",
     "height": 35
    },
    "id": "a5dyac7RrceG",
    "outputId": "22e135fa-85b8-45e9-f375-e19de9e54064"
   },
   "outputs": [
    {
     "data": {
      "application/vnd.google.colaboratory.intrinsic+json": {
       "type": "string"
      },
      "text/plain": [
       "'my name isali my number 124563456'"
      ]
     },
     "execution_count": 12,
     "metadata": {},
     "output_type": "execute_result"
    }
   ],
   "source": [
    "x = 'my name is' + name + ' my number ' + str(num)  #if use + for concatenation we have to use typecast for data types other than strings\n",
    "x"
   ]
  },
  {
   "cell_type": "code",
   "execution_count": null,
   "metadata": {
    "id": "x4mD7AGCAfTm"
   },
   "outputs": [],
   "source": [
    "# find type of any object\n",
    "type(x)   #finding data type of a variable"
   ]
  },
  {
   "cell_type": "code",
   "execution_count": 12,
   "metadata": {
    "colab": {
     "base_uri": "https://localhost:8080/",
     "height": 36
    },
    "id": "BiCalp6SAfTm",
    "outputId": "db74c32e-25f4-48f0-8de5-37fbac9b1ae6"
   },
   "outputs": [
    {
     "data": {
      "text/plain": [
       "'he'"
      ]
     },
     "execution_count": 12,
     "metadata": {},
     "output_type": "execute_result"
    }
   ],
   "source": [
    "s = 'hello'  #initializing a string\n",
    "#    0  1  2  3  4 (index can be from 0 to so on)\n",
    "#   -5 -4 -3 -2 -1 (as it can be manage in negative numbers)\n",
    "len(s)  #checking length of string\n",
    "s[-3]   #can print the value present on that particular index\n",
    "s[0:2]  #will print values  from index value 0 to 1, index 2 value will not be printed\n",
    "s[:-1]  #can also print by using negative numbers\n",
    "\n",
    "s[-1]"
   ]
  },
  {
   "cell_type": "code",
   "execution_count": 18,
   "metadata": {
    "colab": {
     "base_uri": "https://localhost:8080/"
    },
    "id": "Wki_B2BGt9c2",
    "outputId": "29da5320-3d07-45cb-976c-2eee3cb6119b"
   },
   "outputs": [
    {
     "data": {
      "text/plain": [
       "False"
      ]
     },
     "execution_count": 18,
     "metadata": {},
     "output_type": "execute_result"
    }
   ],
   "source": [
    "n1 = True  #exact keywords will be used (can't use it with small t)\n",
    "n2 = False\n",
    "n1,n2\n",
    "n1 and n2\n"
   ]
  },
  {
   "cell_type": "code",
   "execution_count": 20,
   "metadata": {
    "colab": {
     "base_uri": "https://localhost:8080/",
     "height": 36
    },
    "id": "EdqdIS2xAfTm",
    "outputId": "81a638d9-8e0e-4a7e-c74b-fbd33c29b585"
   },
   "outputs": [
    {
     "data": {
      "application/vnd.google.colaboratory.intrinsic+json": {
       "type": "string"
      },
      "text/plain": [
       "'Hello'"
      ]
     },
     "execution_count": 20,
     "metadata": {},
     "output_type": "execute_result"
    }
   ],
   "source": [
    "# Capitalize first word in string\n",
    "s.capitalize()  #first alphabet of string will be capital"
   ]
  },
  {
   "cell_type": "code",
   "execution_count": 21,
   "metadata": {
    "colab": {
     "base_uri": "https://localhost:8080/",
     "height": 36
    },
    "id": "X95ehzCGAfTm",
    "outputId": "2eb29822-3769-4c39-d003-2c0fd3b48961"
   },
   "outputs": [
    {
     "data": {
      "application/vnd.google.colaboratory.intrinsic+json": {
       "type": "string"
      },
      "text/plain": [
       "'HELLO'"
      ]
     },
     "execution_count": 21,
     "metadata": {},
     "output_type": "execute_result"
    }
   ],
   "source": [
    "# uppercase\n",
    "s.upper()  #whole string will be capital"
   ]
  },
  {
   "cell_type": "code",
   "execution_count": 22,
   "metadata": {
    "colab": {
     "base_uri": "https://localhost:8080/",
     "height": 36
    },
    "id": "a3S6QaLQAfTm",
    "outputId": "2e80e7ff-cdee-4140-85f0-f94211662a36"
   },
   "outputs": [
    {
     "data": {
      "application/vnd.google.colaboratory.intrinsic+json": {
       "type": "string"
      },
      "text/plain": [
       "'hello'"
      ]
     },
     "execution_count": 22,
     "metadata": {},
     "output_type": "execute_result"
    }
   ],
   "source": [
    "# lowercase\n",
    "s.lower()  #whole string will be in small letters"
   ]
  },
  {
   "cell_type": "code",
   "execution_count": 23,
   "metadata": {
    "colab": {
     "base_uri": "https://localhost:8080/"
    },
    "id": "_aWkWQURAfTn",
    "outputId": "c978c5ec-df0e-4e0b-ce68-1e7b51847b05"
   },
   "outputs": [
    {
     "data": {
      "text/plain": [
       "1"
      ]
     },
     "execution_count": 23,
     "metadata": {},
     "output_type": "execute_result"
    }
   ],
   "source": [
    "# count a letter in a string\n",
    "s.count('o')   #how many times o have come in a string"
   ]
  },
  {
   "cell_type": "code",
   "execution_count": 24,
   "metadata": {
    "colab": {
     "base_uri": "https://localhost:8080/"
    },
    "id": "3gkzwFTLAfTn",
    "outputId": "ac7c173e-5363-4258-b3f3-d90a01d9634c"
   },
   "outputs": [
    {
     "data": {
      "text/plain": [
       "True"
      ]
     },
     "execution_count": 24,
     "metadata": {},
     "output_type": "execute_result"
    }
   ],
   "source": [
    "# check if string is alpha numeric\n",
    "s.isalnum()"
   ]
  },
  {
   "cell_type": "code",
   "execution_count": 25,
   "metadata": {
    "colab": {
     "base_uri": "https://localhost:8080/"
    },
    "id": "EyAle0gfAfTn",
    "outputId": "2ad273b6-6b82-4c91-ba0b-26e7fb8efdd7"
   },
   "outputs": [
    {
     "data": {
      "text/plain": [
       "True"
      ]
     },
     "execution_count": 25,
     "metadata": {},
     "output_type": "execute_result"
    }
   ],
   "source": [
    "# check if string is numeric\n",
    "s.isalnum()"
   ]
  },
  {
   "cell_type": "code",
   "execution_count": null,
   "metadata": {
    "colab": {
     "base_uri": "https://localhost:8080/"
    },
    "id": "SsXcyvRiAfTn",
    "outputId": "6f9524d2-43cf-4028-8718-feafa5ea1b43"
   },
   "outputs": [
    {
     "name": "stdout",
     "output_type": "stream",
     "text": [
      "hello\n",
      "m\n",
      "ert\n",
      "l\n",
      "e\n"
     ]
    }
   ],
   "source": [
    "# String multiline\n",
    "s = \"\"\"hello\n",
    "m\n",
    "ert\n",
    "l\n",
    "e\"\"\"\n",
    "print(s)  #string is printed in multiline"
   ]
  },
  {
   "cell_type": "code",
   "execution_count": null,
   "metadata": {
    "colab": {
     "base_uri": "https://localhost:8080/",
     "height": 35
    },
    "id": "JpThSEjZAfTn",
    "outputId": "9d451af3-8ab4-47aa-da99-b78a18e368e3"
   },
   "outputs": [
    {
     "data": {
      "application/vnd.google.colaboratory.intrinsic+json": {
       "type": "string"
      },
      "text/plain": [
       "'this is a multiline string.'"
      ]
     },
     "execution_count": 46,
     "metadata": {},
     "output_type": "execute_result"
    }
   ],
   "source": [
    "# Break string in code only\n",
    "multiline = \"this is a \\\n",
    "multiline string.\"\n",
    "multiline  #breaking the string"
   ]
  },
  {
   "cell_type": "code",
   "execution_count": null,
   "metadata": {
    "colab": {
     "base_uri": "https://localhost:8080/",
     "height": 35
    },
    "id": "inEMTvTiAfTn",
    "outputId": "8dd26cc7-9512-4cb1-ef06-f20bfa94b10f"
   },
   "outputs": [
    {
     "data": {
      "application/vnd.google.colaboratory.intrinsic+json": {
       "type": "string"
      },
      "text/plain": [
       "'h'"
      ]
     },
     "execution_count": 47,
     "metadata": {},
     "output_type": "execute_result"
    }
   ],
   "source": [
    "# String slicing\n",
    "s='hello'\n",
    "s[0]  #element on 0 index will be printed"
   ]
  },
  {
   "cell_type": "code",
   "execution_count": 29,
   "metadata": {
    "colab": {
     "base_uri": "https://localhost:8080/",
     "height": 36
    },
    "id": "261pG8SKAfTo",
    "outputId": "c55a7406-85eb-4858-fb8f-9bd0b528b82c"
   },
   "outputs": [
    {
     "data": {
      "application/vnd.google.colaboratory.intrinsic+json": {
       "type": "string"
      },
      "text/plain": [
       "'hell'"
      ]
     },
     "execution_count": 29,
     "metadata": {},
     "output_type": "execute_result"
    }
   ],
   "source": [
    "s[0:4]  #element from index 0 to 3 will be printed"
   ]
  },
  {
   "cell_type": "code",
   "execution_count": 26,
   "metadata": {
    "colab": {
     "base_uri": "https://localhost:8080/",
     "height": 36
    },
    "id": "vk_rIXnaAfTo",
    "outputId": "fbc6a2bf-cede-4c79-9f16-731f4f31d964"
   },
   "outputs": [
    {
     "data": {
      "application/vnd.google.colaboratory.intrinsic+json": {
       "type": "string"
      },
      "text/plain": [
       "'hello'"
      ]
     },
     "execution_count": 26,
     "metadata": {},
     "output_type": "execute_result"
    }
   ],
   "source": [
    "s[:]   #whole string will be printed"
   ]
  },
  {
   "cell_type": "code",
   "execution_count": null,
   "metadata": {
    "id": "9XjC5_S_AfTo"
   },
   "outputs": [],
   "source": [
    "# slicing using ive numbers for indices\n",
    "s[:-1]   #can use negative numbers for indexes too"
   ]
  },
  {
   "cell_type": "code",
   "execution_count": null,
   "metadata": {
    "id": "YXj0nZXqAfTo"
   },
   "outputs": [],
   "source": [
    "s[-3:]"
   ]
  },
  {
   "cell_type": "code",
   "execution_count": 30,
   "metadata": {
    "colab": {
     "base_uri": "https://localhost:8080/"
    },
    "id": "NCy9DWJ3AfTo",
    "outputId": "2274a7ee-a657-4b5f-a9ce-1af0fb642165"
   },
   "outputs": [
    {
     "data": {
      "text/plain": [
       "['This', 'is', 'a', 'course', 'on', 'machine', 'learning.']"
      ]
     },
     "execution_count": 30,
     "metadata": {},
     "output_type": "execute_result"
    }
   ],
   "source": [
    "# Split and Partition\n",
    "s = \"This is a course on machine learning.\"\n",
    "s.split(\" \")  #will split and partition every word present in the string"
   ]
  },
  {
   "cell_type": "code",
   "execution_count": null,
   "metadata": {
    "colab": {
     "base_uri": "https://localhost:8080/"
    },
    "id": "RYik61jpAfTp",
    "outputId": "967020b8-f990-4b66-bf29-5d62633be2be"
   },
   "outputs": [
    {
     "data": {
      "text/plain": [
       "['This is a course ', ' machine learning.']"
      ]
     },
     "execution_count": 10,
     "metadata": {},
     "output_type": "execute_result"
    }
   ],
   "source": [
    "# split on a word or letter\n",
    "s.split(\"on\")  #only the word on will be splitted"
   ]
  },
  {
   "cell_type": "code",
   "execution_count": null,
   "metadata": {
    "colab": {
     "base_uri": "https://localhost:8080/"
    },
    "id": "vUIOU-_3AfTp",
    "outputId": "77a2ee9e-0679-4cdb-c726-b6740d472d41"
   },
   "outputs": [
    {
     "data": {
      "text/plain": [
       "('This is a course ', 'on', ' machine learning.')"
      ]
     },
     "execution_count": 11,
     "metadata": {},
     "output_type": "execute_result"
    }
   ],
   "source": [
    "# partition on a word or letter\n",
    "s.partition(\"on\") #partition will be applied on word on"
   ]
  },
  {
   "cell_type": "code",
   "execution_count": null,
   "metadata": {
    "colab": {
     "base_uri": "https://localhost:8080/",
     "height": 36
    },
    "id": "2Omzrov_AfTp",
    "outputId": "6da6cb5d-6999-4baa-b46f-89d018c20693"
   },
   "outputs": [
    {
     "data": {
      "application/vnd.google.colaboratory.intrinsic+json": {
       "type": "string"
      },
      "text/plain": [
       "'This is a course on machine learning and its duration is 16 weeks.'"
      ]
     },
     "execution_count": 12,
     "metadata": {},
     "output_type": "execute_result"
    }
   ],
   "source": [
    "# f string\n",
    "course_name = \"machine learning\"\n",
    "duration = 16\n",
    "s = f\"This is a course on {course_name} and its duration is {duration} weeks.\"\n",
    "s\n",
    "#can use initialized variables in a string"
   ]
  },
  {
   "cell_type": "code",
   "execution_count": null,
   "metadata": {
    "colab": {
     "base_uri": "https://localhost:8080/"
    },
    "id": "aTiD7LT_AfTp",
    "outputId": "99525dd4-7078-49cd-ff40-7e2bed72ce95"
   },
   "outputs": [
    {
     "name": "stdout",
     "output_type": "stream",
     "text": [
      "True\n",
      "True\n"
     ]
    }
   ],
   "source": [
    "# is in\n",
    "print(\"course\" in s)\n",
    "# not in\n",
    "print(\"k\" not in s)"
   ]
  },
  {
   "cell_type": "markdown",
   "metadata": {
    "id": "fPX2IZBKAfTp"
   },
   "source": [
    "## Lists"
   ]
  },
  {
   "cell_type": "code",
   "execution_count": 31,
   "metadata": {
    "colab": {
     "base_uri": "https://localhost:8080/"
    },
    "id": "M6PKGPKQAfTp",
    "outputId": "307cab33-d79d-4ac3-9341-58bb559445ca"
   },
   "outputs": [
    {
     "data": {
      "text/plain": [
       "[1, 2, 3]"
      ]
     },
     "execution_count": 31,
     "metadata": {},
     "output_type": "execute_result"
    }
   ],
   "source": [
    "# list creation\n",
    "my_list = [1,2,3]  #we can add any type of value in list, can add list in list etc\n",
    "my_list\n"
   ]
  },
  {
   "cell_type": "code",
   "execution_count": 32,
   "metadata": {
    "colab": {
     "base_uri": "https://localhost:8080/"
    },
    "id": "K96YDEEgAfTq",
    "outputId": "a1e10ba0-fe70-415b-ba21-d3e80324cb05"
   },
   "outputs": [
    {
     "data": {
      "text/plain": [
       "[1, 2, 3, 'd']"
      ]
     },
     "execution_count": 32,
     "metadata": {},
     "output_type": "execute_result"
    }
   ],
   "source": [
    "# list append\n",
    "my_list.append('d')  #if we click on it again and again. value will be added again and again\n",
    "my_list"
   ]
  },
  {
   "cell_type": "code",
   "execution_count": null,
   "metadata": {
    "colab": {
     "base_uri": "https://localhost:8080/",
     "height": 35
    },
    "id": "p9xuYdMgAfTq",
    "outputId": "2c82f7a9-b672-43ed-afe1-b630eaa529b3"
   },
   "outputs": [
    {
     "data": {
      "application/vnd.google.colaboratory.intrinsic+json": {
       "type": "string"
      },
      "text/plain": [
       "'NEW'"
      ]
     },
     "execution_count": 32,
     "metadata": {},
     "output_type": "execute_result"
    }
   ],
   "source": [
    "# List indexing\n",
    "my_list[0]   #will print element present on 0th index"
   ]
  },
  {
   "cell_type": "code",
   "execution_count": null,
   "metadata": {
    "colab": {
     "base_uri": "https://localhost:8080/"
    },
    "id": "Wnd9ep-uAfTq",
    "outputId": "4f6a51a5-0586-49b1-8207-f744cc13c7a3"
   },
   "outputs": [
    {
     "data": {
      "text/plain": [
       "[2, 3, 'd']"
      ]
     },
     "execution_count": 43,
     "metadata": {},
     "output_type": "execute_result"
    }
   ],
   "source": [
    "# list slicing\n",
    "my_list[1:]  #will print from index 1 to onwards"
   ]
  },
  {
   "cell_type": "code",
   "execution_count": null,
   "metadata": {
    "colab": {
     "base_uri": "https://localhost:8080/"
    },
    "id": "vHNbi7UEAfTq",
    "outputId": "360eed3a-1d7e-402d-aba1-55df1326c669"
   },
   "outputs": [
    {
     "data": {
      "text/plain": [
       "['NEW', 2, 3]"
      ]
     },
     "execution_count": 30,
     "metadata": {},
     "output_type": "execute_result"
    }
   ],
   "source": [
    "# change/insert a new item in a list on a particular index position\n",
    "my_list[0] = 'NEW'   #can change the value of any index\n",
    "my_list"
   ]
  },
  {
   "cell_type": "code",
   "execution_count": null,
   "metadata": {
    "id": "ircq7JuUAfTq"
   },
   "outputs": [],
   "source": [
    "# nested list\n",
    "nest = [1,2,3,[4,5,['target']]]   #can add even list in list"
   ]
  },
  {
   "cell_type": "code",
   "execution_count": null,
   "metadata": {
    "colab": {
     "base_uri": "https://localhost:8080/"
    },
    "id": "CZhZ3tSIAfTq",
    "outputId": "eba9d251-ee90-4961-bf16-6384f1852378"
   },
   "outputs": [
    {
     "data": {
      "text/plain": [
       "[4, 5, ['target']]"
      ]
     },
     "execution_count": 26,
     "metadata": {},
     "output_type": "execute_result"
    }
   ],
   "source": [
    "# indexing of a nested list\n",
    "nest[3]"
   ]
  },
  {
   "cell_type": "code",
   "execution_count": null,
   "metadata": {
    "id": "B6ZotMVGAfTq"
   },
   "outputs": [],
   "source": [
    "nest[3][2]"
   ]
  },
  {
   "cell_type": "code",
   "execution_count": null,
   "metadata": {
    "id": "J5i2kQyXAfTr"
   },
   "outputs": [],
   "source": [
    "nest[3][2][0]"
   ]
  },
  {
   "cell_type": "code",
   "execution_count": null,
   "metadata": {
    "id": "H4BYDeiYAfTr"
   },
   "outputs": [],
   "source": [
    "# list of list\n",
    "l_o_l = [[1,2,3],[3,4,5],[6,7,8]]\n",
    "l_o_l"
   ]
  },
  {
   "cell_type": "code",
   "execution_count": null,
   "metadata": {
    "id": "Vzc-uc8sAfTr"
   },
   "outputs": [],
   "source": [
    "# size of a list\n",
    "len(l_o_l)"
   ]
  },
  {
   "cell_type": "code",
   "execution_count": null,
   "metadata": {
    "id": "nt12MwZ5AfTr"
   },
   "outputs": [],
   "source": [
    "# pop an element\n",
    "l_o_l.pop()\n",
    "l_o_l"
   ]
  },
  {
   "cell_type": "code",
   "execution_count": null,
   "metadata": {
    "id": "v1O-rPdNAfTr"
   },
   "outputs": [],
   "source": [
    "# count a particular item in a list\n",
    "my_list = ['abc', 23]\n",
    "my_list.count(23)"
   ]
  },
  {
   "cell_type": "code",
   "execution_count": null,
   "metadata": {
    "id": "pEFn9M5xAfTs"
   },
   "outputs": [],
   "source": [
    "# merging two lists\n",
    "list_1 = [1,2,3,4,5]\n",
    "list_2 = [5,6,7,8,9]\n",
    "list_1+list_2"
   ]
  },
  {
   "cell_type": "markdown",
   "metadata": {
    "id": "AtGNxo-sAfTs"
   },
   "source": [
    "## Dictionaries"
   ]
  },
  {
   "cell_type": "code",
   "execution_count": 33,
   "metadata": {
    "colab": {
     "base_uri": "https://localhost:8080/"
    },
    "id": "i9XSiSa1AfTs",
    "outputId": "b7e861ca-4344-4456-8b78-f1d2dbae70a2"
   },
   "outputs": [
    {
     "data": {
      "text/plain": [
       "{'key1': 'item1', 'key2': 'item2'}"
      ]
     },
     "execution_count": 33,
     "metadata": {},
     "output_type": "execute_result"
    }
   ],
   "source": [
    "d = {'key1':'item1','key2':'item2'}\n",
    "d\n"
   ]
  },
  {
   "cell_type": "code",
   "execution_count": null,
   "metadata": {
    "id": "3lmbs4fiAfTs"
   },
   "outputs": [],
   "source": [
    "# item accessing\n",
    "d['key1']\n",
    "# item replacing\n",
    "d['key1'] = 5\n",
    "d"
   ]
  },
  {
   "cell_type": "code",
   "execution_count": null,
   "metadata": {
    "id": "Vdvsyz2sAfTs"
   },
   "outputs": [],
   "source": [
    "#Dictionary Nested with other dictionary \n",
    "d={'k1':{'innerkey':[1,2,3]}}\n",
    "print(d['k1'])\n",
    "print(d['k1']['innerkey'])"
   ]
  },
  {
   "cell_type": "code",
   "execution_count": null,
   "metadata": {
    "id": "xgNH01k7AfTs"
   },
   "outputs": [],
   "source": [
    "d['k1']['innerkey'][1]"
   ]
  },
  {
   "cell_type": "code",
   "execution_count": 34,
   "metadata": {
    "id": "qq8fPat9AfTt"
   },
   "outputs": [],
   "source": [
    "pets = {'dogs':5, 'cats':4}"
   ]
  },
  {
   "cell_type": "code",
   "execution_count": 35,
   "metadata": {
    "colab": {
     "base_uri": "https://localhost:8080/"
    },
    "id": "tpLLcLQ_AfTt",
    "outputId": "4b777c75-b2f8-468b-800a-ed2417fd3ff9"
   },
   "outputs": [
    {
     "data": {
      "text/plain": [
       "dict_keys(['dogs', 'cats'])"
      ]
     },
     "execution_count": 35,
     "metadata": {},
     "output_type": "execute_result"
    }
   ],
   "source": [
    "pets.keys()"
   ]
  },
  {
   "cell_type": "code",
   "execution_count": 36,
   "metadata": {
    "colab": {
     "base_uri": "https://localhost:8080/"
    },
    "id": "dEpRtop2AfTt",
    "outputId": "dfde2ffd-98eb-4036-9baa-435b39a16896"
   },
   "outputs": [
    {
     "data": {
      "text/plain": [
       "dict_items([('dogs', 5), ('cats', 4)])"
      ]
     },
     "execution_count": 36,
     "metadata": {},
     "output_type": "execute_result"
    }
   ],
   "source": [
    "pets.items()"
   ]
  },
  {
   "cell_type": "code",
   "execution_count": 37,
   "metadata": {
    "colab": {
     "base_uri": "https://localhost:8080/"
    },
    "id": "XrpDoh45AfTt",
    "outputId": "63f73ca9-01f7-495b-a509-89e6de5edda9"
   },
   "outputs": [
    {
     "data": {
      "text/plain": [
       "dict_values([5, 4])"
      ]
     },
     "execution_count": 37,
     "metadata": {},
     "output_type": "execute_result"
    }
   ],
   "source": [
    "pets.values()"
   ]
  },
  {
   "cell_type": "code",
   "execution_count": null,
   "metadata": {
    "id": "e77jeOynAfTt"
   },
   "outputs": [],
   "source": [
    "# deleting all key-value pairs in a dictionary\n",
    "pets.clear()\n",
    "pets"
   ]
  },
  {
   "cell_type": "code",
   "execution_count": 38,
   "metadata": {
    "colab": {
     "base_uri": "https://localhost:8080/"
    },
    "id": "QbCIsRNSAfTu",
    "outputId": "013f6e64-f0fd-422c-d12c-8220182ad493"
   },
   "outputs": [
    {
     "data": {
      "text/plain": [
       "True"
      ]
     },
     "execution_count": 38,
     "metadata": {},
     "output_type": "execute_result"
    }
   ],
   "source": [
    "# check if a certain key or value is in the dictionary\n",
    "\"cats\" in pets.keys()"
   ]
  },
  {
   "cell_type": "markdown",
   "metadata": {
    "id": "i4u-jz8bAfTu"
   },
   "source": [
    "## Booleans"
   ]
  },
  {
   "cell_type": "code",
   "execution_count": null,
   "metadata": {
    "id": "nvT_T-jWAfTu"
   },
   "outputs": [],
   "source": [
    "True"
   ]
  },
  {
   "cell_type": "code",
   "execution_count": null,
   "metadata": {
    "id": "NDnfz7NNAfTu"
   },
   "outputs": [],
   "source": [
    "False"
   ]
  },
  {
   "cell_type": "markdown",
   "metadata": {
    "id": "qWr49WFCAfTu"
   },
   "source": [
    "## Tuples "
   ]
  },
  {
   "cell_type": "code",
   "execution_count": null,
   "metadata": {
    "id": "Ra3IJvwZAfTu"
   },
   "outputs": [],
   "source": [
    "# tuple appearance\n",
    "t = (1,2,3)"
   ]
  },
  {
   "cell_type": "code",
   "execution_count": null,
   "metadata": {
    "id": "fVw87-VlAfTu"
   },
   "outputs": [],
   "source": [
    "# tuple indexing\n",
    "t[0]"
   ]
  },
  {
   "cell_type": "code",
   "execution_count": null,
   "metadata": {
    "id": "lFanZQ4JAfTv"
   },
   "outputs": [],
   "source": [
    "# tuple slicing\n",
    "t[1:]"
   ]
  },
  {
   "cell_type": "code",
   "execution_count": null,
   "metadata": {
    "id": "7uG0AFL7AfTv"
   },
   "outputs": [],
   "source": [
    "# tuples are immutable objects so no item can be changed\n",
    "t[0] = 'NEW'"
   ]
  },
  {
   "cell_type": "code",
   "execution_count": null,
   "metadata": {
    "id": "o87ylF8TAfTv"
   },
   "outputs": [],
   "source": [
    "# tuple merging\n",
    "t = (1,2,3)\n",
    "u = (3,5,6)\n",
    "v = t+u\n",
    "print(v)"
   ]
  },
  {
   "cell_type": "markdown",
   "metadata": {
    "id": "VJ_ck7VKAfTv"
   },
   "source": [
    "## Sets"
   ]
  },
  {
   "cell_type": "code",
   "execution_count": null,
   "metadata": {
    "id": "MtMzl16hAfTv"
   },
   "outputs": [],
   "source": [
    "st = {1,2,3}"
   ]
  },
  {
   "cell_type": "code",
   "execution_count": null,
   "metadata": {
    "id": "rDPT1wBmAfTv"
   },
   "outputs": [],
   "source": [
    "# sets are collections of unique items\n",
    "{1,2,3,1,2,1,2,3,3,3,3,2,2,2,1,1,2}"
   ]
  },
  {
   "cell_type": "code",
   "execution_count": null,
   "metadata": {
    "id": "e4s8DGRdAfTv"
   },
   "outputs": [],
   "source": [
    "# set item add\n",
    "st.add(9)"
   ]
  },
  {
   "cell_type": "code",
   "execution_count": null,
   "metadata": {
    "id": "HGuLekZ7AfTw"
   },
   "outputs": [],
   "source": [
    "# set allow intersection, difference, union among other operations\n",
    "s1 = {1,2,3}\n",
    "s2 = {3,4,5}\n",
    "intersection = s1.intersection(s2)\n",
    "print(\"intersection is:\", intersection)\n",
    "union = s1.union(s2)\n",
    "print(\"union is:\", union)\n",
    "difference = s1.difference(s2)\n",
    "print(\"difference is:\", difference)"
   ]
  },
  {
   "cell_type": "code",
   "execution_count": null,
   "metadata": {
    "id": "4lba-tBjAfTw"
   },
   "outputs": [],
   "source": [
    "# A short hand for \n",
    "a={1,3,4,6,'g'}\n",
    "b = {2, 3, 4, 5}\n",
    "\n",
    "print(\"Intersection: \",a & b)\n",
    "print(\"Union: \",a | b)"
   ]
  },
  {
   "cell_type": "markdown",
   "metadata": {
    "id": "9rNnROQ-AfTw"
   },
   "source": [
    "## Comparison Operators"
   ]
  },
  {
   "cell_type": "code",
   "execution_count": null,
   "metadata": {
    "id": "csmaDVX2AfTw"
   },
   "outputs": [],
   "source": [
    "1 > 2"
   ]
  },
  {
   "cell_type": "code",
   "execution_count": null,
   "metadata": {
    "id": "k8b6yJE4AfTw"
   },
   "outputs": [],
   "source": [
    "1 < 2"
   ]
  },
  {
   "cell_type": "code",
   "execution_count": null,
   "metadata": {
    "id": "v2f4u0AsAfTw"
   },
   "outputs": [],
   "source": [
    "1 >= 1"
   ]
  },
  {
   "cell_type": "code",
   "execution_count": null,
   "metadata": {
    "id": "j6bvXwd1AfTx"
   },
   "outputs": [],
   "source": [
    "1 <= 4"
   ]
  },
  {
   "cell_type": "code",
   "execution_count": null,
   "metadata": {
    "id": "0MebPcPGAfTx"
   },
   "outputs": [],
   "source": [
    "1 == 1"
   ]
  },
  {
   "cell_type": "code",
   "execution_count": null,
   "metadata": {
    "id": "NjnvynyNAfTx"
   },
   "outputs": [],
   "source": [
    "'hi' == 'bye'"
   ]
  },
  {
   "cell_type": "code",
   "execution_count": null,
   "metadata": {
    "id": "pYSjRlxxAfTx"
   },
   "outputs": [],
   "source": [
    "'hi' != 'bye'"
   ]
  },
  {
   "cell_type": "markdown",
   "metadata": {
    "id": "OUDaFQBAAfTx"
   },
   "source": [
    "## Logic Operators"
   ]
  },
  {
   "cell_type": "code",
   "execution_count": null,
   "metadata": {
    "id": "nD997397AfTx"
   },
   "outputs": [],
   "source": [
    "# and\n",
    "(1 > 2) and (2 < 3)"
   ]
  },
  {
   "cell_type": "code",
   "execution_count": null,
   "metadata": {
    "id": "PgNE_xH6AfTx"
   },
   "outputs": [],
   "source": [
    "# or\n",
    "(1 > 2) or (2 < 3)"
   ]
  },
  {
   "cell_type": "code",
   "execution_count": null,
   "metadata": {
    "id": "adJRJKMCAfTy"
   },
   "outputs": [],
   "source": [
    "# or\n",
    "(1 == 2) or (2 == 3) or (4 == 4)"
   ]
  },
  {
   "cell_type": "markdown",
   "metadata": {
    "id": "LPicuo_LAfTz"
   },
   "source": [
    "## if,elif, else Statements"
   ]
  },
  {
   "cell_type": "code",
   "execution_count": null,
   "metadata": {
    "id": "rUiAxjXVAfTz"
   },
   "outputs": [],
   "source": [
    "# if\n",
    "if 1 < 2:\n",
    "    print('Yep!')"
   ]
  },
  {
   "cell_type": "code",
   "execution_count": null,
   "metadata": {
    "id": "54-ShxkpAfTz"
   },
   "outputs": [],
   "source": [
    "if 1 < 2:\n",
    "    print('yep!')"
   ]
  },
  {
   "cell_type": "code",
   "execution_count": null,
   "metadata": {
    "id": "npMheJrYAfTz"
   },
   "outputs": [],
   "source": [
    "# if - else\n",
    "if 1 < 2:\n",
    "    print('first')\n",
    "else:\n",
    "    print('last')"
   ]
  },
  {
   "cell_type": "code",
   "execution_count": null,
   "metadata": {
    "id": "8WJy8chuAfTz"
   },
   "outputs": [],
   "source": [
    "# if -elif - else\n",
    "if 1 == 2:\n",
    "    print('first')\n",
    "elif 3 == 3:\n",
    "    print('middle')\n",
    "else:\n",
    "    print('Last')"
   ]
  },
  {
   "cell_type": "markdown",
   "metadata": {
    "id": "hp1cE6FCAfT0"
   },
   "source": [
    "## for Loops"
   ]
  },
  {
   "cell_type": "code",
   "execution_count": null,
   "metadata": {
    "id": "1WRIJhUkAfT0"
   },
   "outputs": [],
   "source": [
    "seq = [1,2,3,4,5]"
   ]
  },
  {
   "cell_type": "code",
   "execution_count": null,
   "metadata": {
    "colab": {
     "base_uri": "https://localhost:8080/"
    },
    "id": "d1ZLTXMUAfT0",
    "outputId": "7a475398-6d8b-4c5b-fd8a-0848e086e8bc"
   },
   "outputs": [
    {
     "name": "stdout",
     "output_type": "stream",
     "text": [
      "1\n",
      "2\n",
      "3\n",
      "4\n",
      "5\n"
     ]
    }
   ],
   "source": [
    "for item in seq:\n",
    "    print(item)"
   ]
  },
  {
   "cell_type": "code",
   "execution_count": null,
   "metadata": {
    "colab": {
     "base_uri": "https://localhost:8080/"
    },
    "id": "URFX93bkAfT0",
    "outputId": "67d6ea6b-b120-4b45-aa75-6e1fd409ca16"
   },
   "outputs": [
    {
     "name": "stdout",
     "output_type": "stream",
     "text": [
      "2\n",
      "4\n",
      "6\n",
      "8\n",
      "10\n"
     ]
    }
   ],
   "source": [
    "for jelly in seq:\n",
    "    print(jelly+jelly)"
   ]
  },
  {
   "cell_type": "code",
   "execution_count": null,
   "metadata": {
    "colab": {
     "base_uri": "https://localhost:8080/"
    },
    "id": "ZMgyacarvWRp",
    "outputId": "9c4aa875-823e-484e-a184-c9123c97702e"
   },
   "outputs": [
    {
     "name": "stdout",
     "output_type": "stream",
     "text": [
      "NEW\n",
      "2\n",
      "3\n",
      "d\n",
      "NEW3"
     ]
    }
   ],
   "source": [
    "#for(int i = 0; i<length(my_list); i++){\n",
    "#   print(my_list[i])\n",
    "#}  (loop syntax in C++)\n",
    "for i in my_list:\n",
    "  print(i)   #will print all values of list line by line\n",
    "\n",
    "for i in my_list:\n",
    "  print(i, end=\"\") #will print all values of list in one line\n",
    "\n",
    "for i in range(0,3,2):  #will print values of list from 0 to 3 using increment of 2\n",
    "  print(my_list[i], end=\"\")"
   ]
  },
  {
   "cell_type": "markdown",
   "metadata": {
    "id": "CekAVA7lAfT0"
   },
   "source": [
    "## Break and Continue"
   ]
  },
  {
   "cell_type": "code",
   "execution_count": null,
   "metadata": {
    "id": "OyHV1SvcAfT0"
   },
   "outputs": [],
   "source": [
    "# break\n",
    "for x in seq:\n",
    "  if x == 3: \n",
    "    break\n",
    "  print(x)"
   ]
  },
  {
   "cell_type": "code",
   "execution_count": null,
   "metadata": {
    "id": "lmy39AGyAfT0"
   },
   "outputs": [],
   "source": [
    "# continue\n",
    "for x in seq:\n",
    "    if x == 3:\n",
    "        continue\n",
    "    print(x)"
   ]
  },
  {
   "cell_type": "markdown",
   "metadata": {
    "id": "4q6Aq32DAfT0"
   },
   "source": [
    "## Pass"
   ]
  },
  {
   "cell_type": "code",
   "execution_count": null,
   "metadata": {
    "id": "XM_Pp5XGAfT1"
   },
   "outputs": [],
   "source": [
    "# cannot left loops, if statements and functions empty. if wanted to do so use pass\n",
    "for x in [0, 1, 2]:\n",
    "  pass"
   ]
  },
  {
   "cell_type": "markdown",
   "metadata": {
    "id": "pSXabvS3AfT1"
   },
   "source": [
    "## while Loops"
   ]
  },
  {
   "cell_type": "code",
   "execution_count": null,
   "metadata": {
    "id": "-EouOwqDAfT1"
   },
   "outputs": [],
   "source": [
    "i = 1\n",
    "while i < 5:\n",
    "    print('i is: {}'.format(i))\n",
    "    i = i+1"
   ]
  },
  {
   "cell_type": "markdown",
   "metadata": {
    "id": "043ZXFlVAfT1"
   },
   "source": [
    "## range()"
   ]
  },
  {
   "cell_type": "code",
   "execution_count": null,
   "metadata": {
    "id": "Z2ZPUdACAfT1"
   },
   "outputs": [],
   "source": [
    "range(5)"
   ]
  },
  {
   "cell_type": "code",
   "execution_count": null,
   "metadata": {
    "id": "F9iZA32RAfT1"
   },
   "outputs": [],
   "source": [
    "for i in range(5):\n",
    "    print(i)"
   ]
  },
  {
   "cell_type": "code",
   "execution_count": null,
   "metadata": {
    "id": "wBqp4tarAfT1"
   },
   "outputs": [],
   "source": [
    "list(range(5))"
   ]
  },
  {
   "cell_type": "markdown",
   "metadata": {
    "id": "0sivgVrOAfT2"
   },
   "source": [
    "## functions"
   ]
  },
  {
   "cell_type": "code",
   "execution_count": null,
   "metadata": {
    "id": "C2SjpsaaAfT2"
   },
   "outputs": [],
   "source": [
    "def my_func(param1='default_parameter'):\n",
    "    \"\"\"\n",
    "    Docstring goes here.\n",
    "    \"\"\"\n",
    "    print(param1)"
   ]
  },
  {
   "cell_type": "code",
   "execution_count": null,
   "metadata": {
    "id": "WDHvjk9YAfT2"
   },
   "outputs": [],
   "source": [
    "my_func"
   ]
  },
  {
   "cell_type": "code",
   "execution_count": null,
   "metadata": {
    "id": "08JAxHdWAfT3"
   },
   "outputs": [],
   "source": [
    "my_func()"
   ]
  },
  {
   "cell_type": "code",
   "execution_count": null,
   "metadata": {
    "id": "Uf4kE7lVAfT3"
   },
   "outputs": [],
   "source": [
    "my_func('new param')"
   ]
  },
  {
   "cell_type": "code",
   "execution_count": null,
   "metadata": {
    "id": "sxsloZ4wAfT3"
   },
   "outputs": [],
   "source": [
    "my_func(param1='new param')"
   ]
  },
  {
   "cell_type": "code",
   "execution_count": null,
   "metadata": {
    "collapsed": true,
    "id": "uIzdr79gAfT3"
   },
   "outputs": [],
   "source": [
    "def square(x):\n",
    "    return x**2"
   ]
  },
  {
   "cell_type": "code",
   "execution_count": null,
   "metadata": {
    "collapsed": true,
    "id": "RNjuEBssAfT3"
   },
   "outputs": [],
   "source": [
    "out = square(2)"
   ]
  },
  {
   "cell_type": "code",
   "execution_count": null,
   "metadata": {
    "id": "FHU_6arwAfT3",
    "scrolled": true
   },
   "outputs": [],
   "source": [
    "print(out)"
   ]
  },
  {
   "cell_type": "markdown",
   "metadata": {
    "id": "fLs54sQPAfT5"
   },
   "source": [
    "## Type Casting"
   ]
  },
  {
   "cell_type": "code",
   "execution_count": null,
   "metadata": {
    "id": "O28WToJbAfT5"
   },
   "outputs": [],
   "source": [
    "type_1 = \"1\"\n",
    "type_2 = 2\n",
    "print(type_1 + type_2)"
   ]
  },
  {
   "cell_type": "code",
   "execution_count": null,
   "metadata": {
    "id": "AAnTnKs_AfT5"
   },
   "outputs": [],
   "source": [
    "print(type_1 + str(type_2))"
   ]
  },
  {
   "cell_type": "markdown",
   "metadata": {
    "id": "KwQxvecyAfT5"
   },
   "source": [
    "## User Input"
   ]
  },
  {
   "cell_type": "code",
   "execution_count": null,
   "metadata": {
    "id": "35p2tOr5AfT6"
   },
   "outputs": [],
   "source": [
    "name = input(\"Enter your name\")\n",
    "print(name, type(name))\n",
    "age = input(\"Enter your age\")\n",
    "# age = int(age)\n",
    "print(type(age))"
   ]
  },
  {
   "cell_type": "code",
   "execution_count": null,
   "metadata": {
    "colab": {
     "base_uri": "https://localhost:8080/",
     "height": 380
    },
    "id": "_CwYvDYzAfT6",
    "outputId": "8022398d-a9b8-4a20-aefb-8105f14cf8c5"
   },
   "outputs": [
    {
     "ename": "KeyboardInterrupt",
     "evalue": "ignored",
     "output_type": "error",
     "traceback": [
      "\u001b[0;31m---------------------------------------------------------------------------\u001b[0m",
      "\u001b[0;31mKeyboardInterrupt\u001b[0m                         Traceback (most recent call last)",
      "\u001b[0;32m<ipython-input-36-9453facb12e5>\u001b[0m in \u001b[0;36m<module>\u001b[0;34m\u001b[0m\n\u001b[1;32m      1\u001b[0m \u001b[0mflag\u001b[0m \u001b[0;34m=\u001b[0m \u001b[0;32mTrue\u001b[0m\u001b[0;34m\u001b[0m\u001b[0;34m\u001b[0m\u001b[0m\n\u001b[1;32m      2\u001b[0m \u001b[0;32mwhile\u001b[0m \u001b[0mflag\u001b[0m\u001b[0;34m:\u001b[0m\u001b[0;34m\u001b[0m\u001b[0;34m\u001b[0m\u001b[0m\n\u001b[0;32m----> 3\u001b[0;31m     \u001b[0minp\u001b[0m \u001b[0;34m=\u001b[0m \u001b[0minput\u001b[0m\u001b[0;34m(\u001b[0m\u001b[0;34m'Enter Fahrenheit Temperature:'\u001b[0m\u001b[0;34m)\u001b[0m\u001b[0;34m\u001b[0m\u001b[0;34m\u001b[0m\u001b[0m\n\u001b[0m\u001b[1;32m      4\u001b[0m     \u001b[0;32mtry\u001b[0m\u001b[0;34m:\u001b[0m\u001b[0;34m\u001b[0m\u001b[0;34m\u001b[0m\u001b[0m\n\u001b[1;32m      5\u001b[0m         \u001b[0mfahr\u001b[0m \u001b[0;34m=\u001b[0m \u001b[0mfloat\u001b[0m\u001b[0;34m(\u001b[0m\u001b[0minp\u001b[0m\u001b[0;34m)\u001b[0m\u001b[0;34m\u001b[0m\u001b[0;34m\u001b[0m\u001b[0m\n",
      "\u001b[0;32m/usr/local/lib/python3.8/dist-packages/ipykernel/kernelbase.py\u001b[0m in \u001b[0;36mraw_input\u001b[0;34m(self, prompt)\u001b[0m\n\u001b[1;32m    858\u001b[0m                 \u001b[0;34m\"raw_input was called, but this frontend does not support input requests.\"\u001b[0m\u001b[0;34m\u001b[0m\u001b[0;34m\u001b[0m\u001b[0m\n\u001b[1;32m    859\u001b[0m             )\n\u001b[0;32m--> 860\u001b[0;31m         return self._input_request(str(prompt),\n\u001b[0m\u001b[1;32m    861\u001b[0m             \u001b[0mself\u001b[0m\u001b[0;34m.\u001b[0m\u001b[0m_parent_ident\u001b[0m\u001b[0;34m,\u001b[0m\u001b[0;34m\u001b[0m\u001b[0;34m\u001b[0m\u001b[0m\n\u001b[1;32m    862\u001b[0m             \u001b[0mself\u001b[0m\u001b[0;34m.\u001b[0m\u001b[0m_parent_header\u001b[0m\u001b[0;34m,\u001b[0m\u001b[0;34m\u001b[0m\u001b[0;34m\u001b[0m\u001b[0m\n",
      "\u001b[0;32m/usr/local/lib/python3.8/dist-packages/ipykernel/kernelbase.py\u001b[0m in \u001b[0;36m_input_request\u001b[0;34m(self, prompt, ident, parent, password)\u001b[0m\n\u001b[1;32m    902\u001b[0m             \u001b[0;32mexcept\u001b[0m \u001b[0mKeyboardInterrupt\u001b[0m\u001b[0;34m:\u001b[0m\u001b[0;34m\u001b[0m\u001b[0;34m\u001b[0m\u001b[0m\n\u001b[1;32m    903\u001b[0m                 \u001b[0;31m# re-raise KeyboardInterrupt, to truncate traceback\u001b[0m\u001b[0;34m\u001b[0m\u001b[0;34m\u001b[0m\u001b[0;34m\u001b[0m\u001b[0m\n\u001b[0;32m--> 904\u001b[0;31m                 \u001b[0;32mraise\u001b[0m \u001b[0mKeyboardInterrupt\u001b[0m\u001b[0;34m(\u001b[0m\u001b[0;34m\"Interrupted by user\"\u001b[0m\u001b[0;34m)\u001b[0m \u001b[0;32mfrom\u001b[0m \u001b[0;32mNone\u001b[0m\u001b[0;34m\u001b[0m\u001b[0;34m\u001b[0m\u001b[0m\n\u001b[0m\u001b[1;32m    905\u001b[0m             \u001b[0;32mexcept\u001b[0m \u001b[0mException\u001b[0m \u001b[0;32mas\u001b[0m \u001b[0me\u001b[0m\u001b[0;34m:\u001b[0m\u001b[0;34m\u001b[0m\u001b[0;34m\u001b[0m\u001b[0m\n\u001b[1;32m    906\u001b[0m                 \u001b[0mself\u001b[0m\u001b[0;34m.\u001b[0m\u001b[0mlog\u001b[0m\u001b[0;34m.\u001b[0m\u001b[0mwarning\u001b[0m\u001b[0;34m(\u001b[0m\u001b[0;34m\"Invalid Message:\"\u001b[0m\u001b[0;34m,\u001b[0m \u001b[0mexc_info\u001b[0m\u001b[0;34m=\u001b[0m\u001b[0;32mTrue\u001b[0m\u001b[0;34m)\u001b[0m\u001b[0;34m\u001b[0m\u001b[0;34m\u001b[0m\u001b[0m\n",
      "\u001b[0;31mKeyboardInterrupt\u001b[0m: Interrupted by user"
     ]
    }
   ],
   "source": [
    "flag = True\n",
    "while flag:\n",
    "    inp = input('Enter Fahrenheit Temperature:')\n",
    "    try:\n",
    "        fahr = float(inp)\n",
    "        flag = False\n",
    "        cel = (fahr - 32.0) * 5.0 / 9.0\n",
    "        print (cel)\n",
    "    except:\n",
    "        print ('Please enter a number')"
   ]
  },
  {
   "cell_type": "markdown",
   "metadata": {
    "id": "bwwa2-PpAfT7"
   },
   "source": [
    "## File Handling"
   ]
  },
  {
   "cell_type": "code",
   "execution_count": null,
   "metadata": {
    "id": "njQS14ELAfT7"
   },
   "outputs": [],
   "source": [
    "# file writing\n",
    "file = open('data.txt', 'w')\n",
    "file.write('1 2 3 4\\n')\n",
    "file.write('2 3 4 5\\n')\n",
    "file.write('6 7 8 9\\n')\n",
    "file.write('10 11 12 13\\n')\n",
    "file.write('14 15 16 17\\n')\n",
    "\n",
    "file.close()\n"
   ]
  },
  {
   "cell_type": "code",
   "execution_count": null,
   "metadata": {
    "id": "S03_S3I_AfT7"
   },
   "outputs": [],
   "source": [
    "# File handling modes:\n",
    "\n",
    "#     “ r “, for reading.\n",
    "#    “ w “, for writing.\n",
    "#    “ a “, for appending.\n",
    "#    “ r+ “, for both reading and writing.\n",
    "#    “ a+ “, for both reading and appending.\n",
    "\n",
    "# For binary file: rb, wb"
   ]
  },
  {
   "cell_type": "markdown",
   "metadata": {
    "id": "9uyjaX9pFf4z"
   },
   "source": [
    "##Installing Important Libraries and Importing Them"
   ]
  },
  {
   "cell_type": "code",
   "execution_count": null,
   "metadata": {
    "id": "6BUIYSLDAfT_"
   },
   "outputs": [],
   "source": [
    "!pip install lazypredict"
   ]
  },
  {
   "cell_type": "code",
   "execution_count": null,
   "metadata": {
    "id": "HyX6jV2YFmCU"
   },
   "outputs": [],
   "source": [
    "# whole package\n",
    "import lazypredict"
   ]
  },
  {
   "cell_type": "code",
   "execution_count": null,
   "metadata": {
    "id": "6ks2AONXF0qw"
   },
   "outputs": [],
   "source": [
    "# a specific module\n",
    "from lazypredict import Supervised"
   ]
  },
  {
   "cell_type": "code",
   "execution_count": null,
   "metadata": {
    "id": "a1kkkU5NG6b8"
   },
   "outputs": [],
   "source": [
    "# a submodule from module\n",
    "from lazypredict.Supervised import LazyClassifier"
   ]
  },
  {
   "cell_type": "code",
   "execution_count": null,
   "metadata": {
    "id": "QAyRPlWyG7Gr"
   },
   "outputs": [],
   "source": [
    "# using alias for imports\n",
    "from lazypredict.Supervised import LazyClassifier as LC"
   ]
  }
 ],
 "metadata": {
  "colab": {
   "collapsed_sections": [
    "pTuRCK8KAfTb",
    "hXPycKfaAfTh",
    "lGkc2eVFAfTk",
    "92yRtutFAfTk",
    "fPX2IZBKAfTp",
    "AtGNxo-sAfTs",
    "i4u-jz8bAfTu",
    "qWr49WFCAfTu",
    "VJ_ck7VKAfTv",
    "9rNnROQ-AfTw",
    "OUDaFQBAAfTx",
    "LPicuo_LAfTz",
    "hp1cE6FCAfT0",
    "CekAVA7lAfT0",
    "4q6Aq32DAfT0",
    "pSXabvS3AfT1",
    "043ZXFlVAfT1",
    "0sivgVrOAfT2",
    "fLs54sQPAfT5",
    "KwQxvecyAfT5",
    "bwwa2-PpAfT7",
    "9uyjaX9pFf4z"
   ],
   "provenance": []
  },
  "kernelspec": {
   "display_name": "Python 3 (ipykernel)",
   "language": "python",
   "name": "python3"
  },
  "language_info": {
   "codemirror_mode": {
    "name": "ipython",
    "version": 3
   },
   "file_extension": ".py",
   "mimetype": "text/x-python",
   "name": "python",
   "nbconvert_exporter": "python",
   "pygments_lexer": "ipython3",
   "version": "3.9.13"
  }
 },
 "nbformat": 4,
 "nbformat_minor": 1
}
